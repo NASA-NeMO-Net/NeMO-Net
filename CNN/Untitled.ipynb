{
 "cells": [
  {
   "cell_type": "code",
   "execution_count": 3,
   "metadata": {},
   "outputs": [],
   "source": [
    "# test editing yml file\n",
    "import yaml"
   ]
  },
  {
   "cell_type": "code",
   "execution_count": 4,
   "metadata": {},
   "outputs": [],
   "source": [
    "def set_state(state):\n",
    "    with open('init_args_test.yml') as f:\n",
    "        doc = yaml.load(f)\n",
    "\n",
    "    doc['target_size'] = state\n",
    "\n",
    "    with open('init_args_test.yml', 'w') as f:\n",
    "        yaml.dump(doc, f)"
   ]
  },
  {
   "cell_type": "code",
   "execution_count": 5,
   "metadata": {},
   "outputs": [],
   "source": [
    "set_state('200')"
   ]
  },
  {
   "cell_type": "code",
   "execution_count": 8,
   "metadata": {},
   "outputs": [
    {
     "name": "stdout",
     "output_type": "stream",
     "text": [
      "init_args_type <class 'dict'>\n",
      "{'image_set_loader': {'val': {'image_format': 'png', 'image_dir': '../Images/Valid_Patches/', 'label_format': 'png', 'image_set': '../Images/Valid_Patches/NeMO_valid.txt', 'target_size': [100, 100], 'label_dir': '../Images/ValidRef_Patches/', 'color_mode': 'rgb'}, 'test': {'image_format': 'jpg', 'image_dir': '../data/VOC2011/JPEGImages/', 'label_format': 'png', 'image_set': '../data/VOC2011/ImageSets/Segmentation/test.txt', 'target_size': [224, 224], 'label_dir': '../data/VOC2011/SegmentationClass', 'color_mode': 'rgb'}, 'train': {'image_format': 'png', 'image_dir': '../Images/Training_Patches/', 'label_format': 'png', 'image_set': '../Images/Training_Patches/NeMO_train.txt', 'target_size': [100, 100], 'label_dir': '../Images/TrainingRef_Patches/', 'color_mode': 'rgb'}}}\n"
     ]
    }
   ],
   "source": [
    "with open(\"init_args.yml\", 'r') as stream:\n",
    "            try:\n",
    "                init_args = yaml.load(stream)\n",
    "                print(\"init_args_type\",type(init_args))\n",
    "                print(init_args)\n",
    "            except yaml.YAMLError as exc:\n",
    "                print(exc)\n"
   ]
  },
  {
   "cell_type": "code",
   "execution_count": null,
   "metadata": {},
   "outputs": [],
   "source": []
  }
 ],
 "metadata": {
  "kernelspec": {
   "display_name": "Python 3",
   "language": "python",
   "name": "python3"
  },
  "language_info": {
   "codemirror_mode": {
    "name": "ipython",
    "version": 3
   },
   "file_extension": ".py",
   "mimetype": "text/x-python",
   "name": "python",
   "nbconvert_exporter": "python",
   "pygments_lexer": "ipython3",
   "version": "3.5.4"
  }
 },
 "nbformat": 4,
 "nbformat_minor": 2
}
