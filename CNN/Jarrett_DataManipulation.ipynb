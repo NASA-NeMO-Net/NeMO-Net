{
 "cells": [
  {
   "cell_type": "code",
   "execution_count": 1,
   "metadata": {},
   "outputs": [
    {
     "name": "stderr",
     "output_type": "stream",
     "text": [
      "c:\\users\\rechant\\appdata\\local\\programs\\python\\python36\\lib\\site-packages\\h5py\\__init__.py:36: FutureWarning: Conversion of the second argument of issubdtype from `float` to `np.floating` is deprecated. In future, it will be treated as `np.float64 == np.dtype(float).type`.\n",
      "  from ._conv import register_converters as _register_converters\n",
      "Using TensorFlow backend.\n"
     ]
    }
   ],
   "source": [
    "import sys\n",
    "sys.path.append(\"./utils/\") # Adds higher directory to python modules path.\n",
    "import random\n",
    "import numpy as np\n",
    "import cv2\n",
    "import yaml\n",
    "import glob, os\n",
    "import loadcoraldata_utils as coralutils\n",
    "import json\n",
    "import importlib\n",
    "from NeMO_generator import NeMOImageGenerator, ImageSetLoader\n",
    "from osgeo import gdal\n",
    "from sklearn.manifold import TSNE\n",
    "\n",
    "from matplotlib import colors\n",
    "import matplotlib.patches as mpatches\n",
    "from mpl_toolkits.mplot3d import Axes3D\n",
    "from matplotlib import pyplot as plt\n",
    "%matplotlib notebook"
   ]
  },
  {
   "cell_type": "code",
   "execution_count": 2,
   "metadata": {
    "scrolled": true
   },
   "outputs": [
    {
     "name": "stdout",
     "output_type": "stream",
     "text": [
      "../Images/submissions 7-24-18/rastertrain.txt\n",
      "Finished output for 1 images\n",
      "Finished output for 2 images\n",
      "Finished output for 3 images\n",
      "Finished output for 4 images\n",
      "Finished output for 5 images\n",
      "Finished output for 6 images\n",
      "Finished output for 7 images\n",
      "Finished output for 8 images\n",
      "Finished output for 9 images\n",
      "Finished output for 10 images\n",
      "Finished output for 11 images\n",
      "Finished output for 12 images\n",
      "Finished output for 13 images\n",
      "Finished output for 14 images\n",
      "Finished output for 15 images\n",
      "Finished output for 16 images\n",
      "Finished output for 17 images\n",
      "Finished output for 18 images\n",
      "Finished output for 19 images\n",
      "Finished output for 20 images\n",
      "Finished output for 21 images\n",
      "Finished output for 22 images\n",
      "Finished output for 23 images\n",
      "Finished output for 24 images\n",
      "Finished output for 25 images\n",
      "Finished output for 26 images\n",
      "Finished output for 27 images\n",
      "Finished output for 28 images\n",
      "Finished output for 29 images\n",
      "Finished output for 30 images\n",
      "Finished output for 31 images\n",
      "Finished output for 32 images\n",
      "Finished output for 33 images\n",
      "Finished output for 34 images\n"
     ]
    }
   ],
   "source": [
    "# Fill in truth maps as taken from Jarrett's submissions\n",
    "imagepath = \"F:/Images/processed_Fiji_files\"\n",
    "startpath = \"../Images/submissions 7-24-18\"\n",
    "finalpath_RGB = \"../Images/Jarrett_submissions2/Original\"\n",
    "finalpath_patch = \"../Images/Jarrett_submissions2/Patches\"\n",
    "finalpath_truthmap = \"../Images/Jarrett_submissions2/Truthmaps_RGB\"\n",
    "rasterfile = startpath + \"/rastertrain.txt\"\n",
    "print(rasterfile)\n",
    "image_size = 256\n",
    "offset = 128\n",
    "\n",
    "alldir = [os.path.join(startpath,o) for o in os.listdir(startpath) if os.path.isdir(os.path.join(startpath,o))]\n",
    "counter = 0\n",
    "for d in alldir:\n",
    "    files = [f for f in os.listdir(d) if os.path.isfile(os.path.join(d,f))]\n",
    "    for f in files:\n",
    "        fillmap = coralutils.fill_in_truthmap(os.path.join(d,f), 3, nofillcolor=np.asarray([0,0,0]))\n",
    "        filestr = \"Coral_\" + str(counter).zfill(8) + \".png\"\n",
    "        cv2.imwrite(os.path.join(finalpath_truthmap,filestr), fillmap)\n",
    "        if f.endswith(\".tiff\"):\n",
    "            temp_f = f[:-1] # turn .tiff to .tif\n",
    "        else:\n",
    "            temp_f = f\n",
    "        \n",
    "        filestr = \"Coral_\" + str(counter).zfill(8) + \".tif\"\n",
    "        patch, patch_proj, patch_gt = coralutils.load_specific_patch(imagepath, temp_f, rasterfile, image_size, offset=offset)\n",
    "        patch_R = 255/200*patch[:,:,4]\n",
    "        patch_G = 255/200*patch[:,:,2]\n",
    "        patch_B = 255/200*patch[:,:,1]\n",
    "        patch_R[patch_R > 255] = 255\n",
    "        patch_G[patch_G > 255] = 255\n",
    "        patch_B[patch_B > 255] = 255\n",
    "        patch_BGR = np.rollaxis(np.asarray([patch_B, patch_G, patch_R], dtype=np.uint8),0,3)\n",
    "        cv2.imwrite(os.path.join(finalpath_RGB,filestr), patch_BGR)\n",
    "        \n",
    "        driver = gdal.GetDriverByName('GTiff')\n",
    "        dataset = driver.Create(finalpath_patch + \"/\" + filestr, image_size, image_size, patch.shape[2], gdal.GDT_Float32)\n",
    "        for chan in range(patch.shape[2]):\n",
    "            dataset.GetRasterBand(chan+1).WriteArray((patch[:,:,chan]-100)/100)\n",
    "            dataset.FlushCache()\n",
    "        \n",
    "        counter += 1\n",
    "        print(\"Finished output for \" + str(counter) + \" images\")"
   ]
  },
  {
   "cell_type": "code",
   "execution_count": 4,
   "metadata": {},
   "outputs": [],
   "source": [
    "jsonpath = './utils/CoralClasses.json'\n",
    "finalpath_truthmap = \"../Images/Jarrett_submissions2/Truthmaps_RGB\"\n",
    "Graypath = '../Images/Jarrett_submissions2/Truthmaps_Gray'\n",
    "with open(jsonpath) as json_file:\n",
    "    json_data = json.load(json_file)\n",
    "cmap_Ved = colors.ListedColormap(['xkcd:pink', 'xkcd:grey', 'xkcd:tan', 'xkcd:olive', 'xkcd:forest', 'xkcd:blue',\n",
    "                                'xkcd:lilac', 'xkcd:cyan', 'xkcd:orange'])\n",
    "coralutils.transform_RGB2Gray(finalpath_truthmap, Graypath, cmap_Ved, json_data[\"VedConsolidated_ClassDict\"])"
   ]
  },
  {
   "cell_type": "code",
   "execution_count": null,
   "metadata": {},
   "outputs": [],
   "source": [
    "\"\""
   ]
  }
 ],
 "metadata": {
  "kernelspec": {
   "display_name": "Python 3",
   "language": "python",
   "name": "python3"
  },
  "language_info": {
   "codemirror_mode": {
    "name": "ipython",
    "version": 3
   },
   "file_extension": ".py",
   "mimetype": "text/x-python",
   "name": "python",
   "nbconvert_exporter": "python",
   "pygments_lexer": "ipython3",
   "version": "3.6.5"
  }
 },
 "nbformat": 4,
 "nbformat_minor": 2
}
