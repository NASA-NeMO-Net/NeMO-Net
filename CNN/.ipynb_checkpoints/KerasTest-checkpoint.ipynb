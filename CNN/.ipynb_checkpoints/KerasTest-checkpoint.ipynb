{
 "cells": [
  {
   "cell_type": "markdown",
   "metadata": {},
   "source": [
    "## Testing Keras package"
   ]
  },
  {
   "cell_type": "code",
   "execution_count": 1,
   "metadata": {},
   "outputs": [
    {
     "name": "stderr",
     "output_type": "stream",
     "text": [
      "Using TensorFlow backend.\n"
     ]
    }
   ],
   "source": [
    "# WRITTEN BY ALAN LI\n",
    "# NASA AMES LABORATORY FOR ADVANCED SENSING (LAS)\n",
    "# Last edited: Feb 22, 2018\n",
    "\n",
    "import sys\n",
    "sys.path.append(\"./utils/\") # Adds higher directory to python modules path.\n",
    "import random\n",
    "import numpy as np\n",
    "import cv2\n",
    "import glob, os\n",
    "from collections import Counter\n",
    "\n",
    "from matplotlib import pyplot as plt\n",
    "import matplotlib.patches as mpatches\n",
    "from matplotlib import colors\n",
    "from collections import Counter\n",
    "import pandas as pd\n",
    "import logging\n",
    "import yaml\n",
    "from PIL import Image as pil_image\n",
    "\n",
    "import tensorflow as tf\n",
    "from tensorflow.python.client import device_lib\n",
    "os.environ[\"CUDA_VISIBLE_DEVICES\"] = \"0\"\n",
    "\n",
    "import loadcoraldata_utils as coralutils\n",
    "import keras\n",
    "import keras.backend as K\n",
    "from keras.models import Model, Sequential, load_model\n",
    "from keras.layers import Input, Dense, Dropout, Flatten, Activation\n",
    "from keras.layers import Conv2D, Convolution2D, MaxPooling2D\n",
    "from keras.layers.convolutional import ZeroPadding2D\n",
    "from keras.layers.normalization import BatchNormalization\n",
    "from keras.utils import np_utils\n",
    "from keras import optimizers\n",
    "from keras.preprocessing.image import img_to_array\n",
    "from keras.callbacks import Callback\n",
    "from NeMO_models import FCN\n",
    "import NeMO_layers\n",
    "import NeMO_encoders\n",
    "from NeMO_generator import NeMOImageGenerator, ImageSetLoader\n",
    "from NeMO_callbacks import CheckNumericsOps, WeightsSaver\n",
    "\n",
    "num_cores = 4\n",
    "num_GPU = 1\n",
    "num_CPU = 1\n",
    "\n",
    "global _SESSION\n",
    "config = tf.ConfigProto(intra_op_parallelism_threads=num_cores,\n",
    "        inter_op_parallelism_threads=num_cores, allow_soft_placement=True,\n",
    "        device_count = {'CPU' : num_CPU, 'GPU' : num_GPU})\n",
    "_SESSION = tf.Session(config=config)\n",
    "K.set_session(_SESSION)\n",
    "\n",
    "%matplotlib notebook\n",
    "\n",
    "model = load_model('./tmp/VGG16DeepLab_Raster256.h5', \n",
    "                   custom_objects={'BilinearUpSampling2D':NeMO_layers.BilinearUpSampling2D})"
   ]
  },
  {
   "cell_type": "code",
   "execution_count": 8,
   "metadata": {},
   "outputs": [
    {
     "name": "stdout",
     "output_type": "stream",
     "text": [
      "(3272, 4330, 8)\n",
      "1905 0\n",
      "['0: NoData', '1: back reef - pavement', '2: back reef - rubble dominated', '3: back reef - sediment dominated', '4: back reef coral framework', '5: Beach', '6: Clouds', '7: coralline algal ridge (reef crest)', '8: deep fore reef slope', '9: deep lagoonal water', '10: deep ocean water', '11: dense seagrass meadows', '12: fore reef sand flats', '13: Inland waters', '14: lagoonal floor - barren', '15: lagoonal fringing reefs', '16: lagoonal patch reefs', '17: lagoonal sediment apron - sediment dominated', '18: mangroves', '19: Rocky beach', '20: shallow fore reef slope', '21: shallow fore reef terrace', '22: terrestrial vegetation', '23: Wetlands']\n"
     ]
    }
   ],
   "source": [
    "# Test export of patches from gdal\n",
    "imgpath = '../Images/BTPB-WV2-2012-15-8Band-mosaic-GeoTiff-Sample-AOI/BTPB-WV2-2012-15-8Band-mosaic-GeoTiff-Sample-AOI.tif'\n",
    "tfwpath = '../Images/BTPB-WV2-2012-15-8Band-mosaic-GeoTiff-Sample-AOI/BTPB-WV2-2012-15-8Band-mosaic-GeoTiff-Sample-AOI.tfw'\n",
    "truthpath = '../Images/BIOT-PerosBanhos-sample-habitat-map/BIOT-PerosBanhos-sample-habitat-map.shp'\n",
    "output_trainpath = '../Images/LO_Training_Patches/'\n",
    "output_trainrefpath = '../Images/LO_TrainingRef_Patches/'\n",
    "output_trainfilename = 'rastertrain.txt'\n",
    "output_validpath = '../Images/LO_Valid_Patches/'\n",
    "output_validrefpath = '../Images/LO_ValidRef_Patches/'\n",
    "output_validfilename = 'rastervalid.txt'\n",
    "\n",
    "PerosBanhos = coralutils.CoralData(imgpath, Truthpath=truthpath, load_type=\"raster\", tfwpath=tfwpath)\n",
    "np.save(\"./PerosBanhos_8band.npy\", PerosBanhos.image.astype(int))\n",
    "tmp = np.load(\"./PerosBanhos_8band.npy\")\n",
    "print(tmp.shape)\n",
    "print(np.max(tmp), np.min(tmp))\n",
    "print([str(i) + \": \" + PerosBanhos.class_labels[i] for i in range(PerosBanhos.num_classes)])\n"
   ]
  },
  {
   "cell_type": "code",
   "execution_count": 9,
   "metadata": {},
   "outputs": [
    {
     "name": "stdout",
     "output_type": "stream",
     "text": [
      "[  0  21  22  23  24  25  26  27  28  29  45  46  47  48  50  53  54  55\n",
      "  56  57 118 119 120 121 122 123 175 176 177 178 179 180 181 221 222 223\n",
      " 224 225 226 227 421 422 423 424 425 426 427 428 429]\n"
     ]
    }
   ],
   "source": [
    "print(np.unique(tmp[0]))"
   ]
  }
 ],
 "metadata": {
  "kernelspec": {
   "display_name": "Python 3",
   "language": "python",
   "name": "python3"
  },
  "language_info": {
   "codemirror_mode": {
    "name": "ipython",
    "version": 3
   },
   "file_extension": ".py",
   "mimetype": "text/x-python",
   "name": "python",
   "nbconvert_exporter": "python",
   "pygments_lexer": "ipython3",
   "version": "3.6.3"
  }
 },
 "nbformat": 4,
 "nbformat_minor": 2
}
