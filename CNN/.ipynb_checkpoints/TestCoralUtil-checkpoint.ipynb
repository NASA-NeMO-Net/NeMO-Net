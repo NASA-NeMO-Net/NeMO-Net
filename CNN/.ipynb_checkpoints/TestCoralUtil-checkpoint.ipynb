{
 "cells": [
  {
   "cell_type": "code",
   "execution_count": 1,
   "metadata": {
    "scrolled": false
   },
   "outputs": [],
   "source": [
    "import sys\n",
    "\n",
    "sys.path.append('./utils/')\n",
    "import numpy as np\n",
    "import cv2\n",
    "import loadcoraldata_utils as coralutils"
   ]
  },
  {
   "cell_type": "code",
   "execution_count": 2,
   "metadata": {},
   "outputs": [
    {
     "name": "stdout",
     "output_type": "stream",
     "text": [
      "20/ 20 patches exported\r"
     ]
    }
   ],
   "source": [
    "transect1_path = '../Images/Transect 1 Hi-Res.tiff'\n",
    "transect1_truth_path = '../Images/Transect 1 Truth data.tif'\n",
    "output_trainpath = '../Images/Training_Patches/'\n",
    "output_refpath = '../Images/Ref_Patches/'\n",
    "\n",
    "image_size = 100\n",
    "labels = ('Sand', 'Branching', 'Mounding', 'Rock')\n",
    "Transect1 = coralutils.CoralData(transect1_path, Truthpath=transect1_truth_path, truth_key=[16,160,198,38])\n",
    "Transect1.export_segmentation_map(output_trainpath, output_refpath, image_size = image_size, N = 5, lastchannelremove = True, labelkey = labels)"
   ]
  },
  {
   "cell_type": "code",
   "execution_count": 7,
   "metadata": {},
   "outputs": [
    {
     "name": "stdout",
     "output_type": "stream",
     "text": [
      "[  0 191]\n"
     ]
    }
   ],
   "source": [
    "loadtruthpath = '../Images/Ref_Patches/Rock_00000000.tiff'\n",
    "\n",
    "a = cv2.imread(loadtruthpath,0)\n",
    "print(np.unique(a))"
   ]
  },
  {
   "cell_type": "code",
   "execution_count": null,
   "metadata": {},
   "outputs": [],
   "source": []
  }
 ],
 "metadata": {
  "kernelspec": {
   "display_name": "Python 3",
   "language": "python",
   "name": "python3"
  },
  "language_info": {
   "codemirror_mode": {
    "name": "ipython",
    "version": 3
   },
   "file_extension": ".py",
   "mimetype": "text/x-python",
   "name": "python",
   "nbconvert_exporter": "python",
   "pygments_lexer": "ipython3",
   "version": "3.6.2"
  }
 },
 "nbformat": 4,
 "nbformat_minor": 2
}
