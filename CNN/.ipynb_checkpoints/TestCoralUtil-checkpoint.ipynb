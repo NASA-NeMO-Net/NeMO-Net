{
 "cells": [
  {
   "cell_type": "code",
   "execution_count": 1,
   "metadata": {
    "scrolled": false
   },
   "outputs": [
    {
     "name": "stderr",
     "output_type": "stream",
     "text": [
      "Using TensorFlow backend.\n"
     ]
    }
   ],
   "source": [
    "import sys\n",
    "\n",
    "sys.path.append('./utils/')\n",
    "import numpy as np\n",
    "import cv2\n",
    "import gdal\n",
    "import loadcoraldata_utils as coralutils"
   ]
  },
  {
   "cell_type": "code",
   "execution_count": 1,
   "metadata": {},
   "outputs": [
    {
     "ename": "NameError",
     "evalue": "name 'coralutils' is not defined",
     "output_type": "error",
     "traceback": [
      "\u001b[1;31m---------------------------------------------------------------------------\u001b[0m",
      "\u001b[1;31mNameError\u001b[0m                                 Traceback (most recent call last)",
      "\u001b[1;32m<ipython-input-1-6136c4d97d3f>\u001b[0m in \u001b[0;36m<module>\u001b[1;34m()\u001b[0m\n\u001b[0;32m     12\u001b[0m \u001b[0mimage_size\u001b[0m \u001b[1;33m=\u001b[0m \u001b[1;36m25\u001b[0m\u001b[1;33m\u001b[0m\u001b[0m\n\u001b[0;32m     13\u001b[0m \u001b[0mlabels\u001b[0m \u001b[1;33m=\u001b[0m \u001b[1;33m(\u001b[0m\u001b[1;34m'Sand'\u001b[0m\u001b[1;33m,\u001b[0m \u001b[1;34m'Branching'\u001b[0m\u001b[1;33m,\u001b[0m \u001b[1;34m'Mounding'\u001b[0m\u001b[1;33m,\u001b[0m \u001b[1;34m'Rock'\u001b[0m\u001b[1;33m)\u001b[0m\u001b[1;33m\u001b[0m\u001b[0m\n\u001b[1;32m---> 14\u001b[1;33m \u001b[0mTransect1\u001b[0m \u001b[1;33m=\u001b[0m \u001b[0mcoralutils\u001b[0m\u001b[1;33m.\u001b[0m\u001b[0mCoralData\u001b[0m\u001b[1;33m(\u001b[0m\u001b[0mtransect1_path\u001b[0m\u001b[1;33m,\u001b[0m \u001b[0mTruthpath\u001b[0m\u001b[1;33m=\u001b[0m\u001b[0mtransect1_truth_path\u001b[0m\u001b[1;33m,\u001b[0m \u001b[0mtruth_key\u001b[0m\u001b[1;33m=\u001b[0m\u001b[1;33m[\u001b[0m\u001b[1;36m16\u001b[0m\u001b[1;33m,\u001b[0m\u001b[1;36m160\u001b[0m\u001b[1;33m,\u001b[0m\u001b[1;36m198\u001b[0m\u001b[1;33m,\u001b[0m\u001b[1;36m38\u001b[0m\u001b[1;33m]\u001b[0m\u001b[1;33m,\u001b[0m \u001b[0mload_type\u001b[0m\u001b[1;33m=\u001b[0m\u001b[1;34m\"cv2\"\u001b[0m\u001b[1;33m)\u001b[0m\u001b[1;33m\u001b[0m\u001b[0m\n\u001b[0m\u001b[0;32m     15\u001b[0m \u001b[0mprint\u001b[0m\u001b[1;33m(\u001b[0m\u001b[1;34m\"Outputing Training...\"\u001b[0m\u001b[1;33m)\u001b[0m\u001b[1;33m\u001b[0m\u001b[0m\n\u001b[0;32m     16\u001b[0m \u001b[0mTransect1\u001b[0m\u001b[1;33m.\u001b[0m\u001b[0mexport_segmentation_map\u001b[0m\u001b[1;33m(\u001b[0m\u001b[0moutput_trainpath\u001b[0m\u001b[1;33m,\u001b[0m \u001b[0moutput_trainrefpath\u001b[0m\u001b[1;33m,\u001b[0m \u001b[0moutput_trainfilename\u001b[0m\u001b[1;33m,\u001b[0m \u001b[0mimage_size\u001b[0m \u001b[1;33m=\u001b[0m \u001b[0mimage_size\u001b[0m\u001b[1;33m,\u001b[0m \u001b[0mN\u001b[0m \u001b[1;33m=\u001b[0m \u001b[1;36m1000\u001b[0m\u001b[1;33m,\u001b[0m \u001b[0mlastchannelremove\u001b[0m \u001b[1;33m=\u001b[0m \u001b[1;32mTrue\u001b[0m\u001b[1;33m,\u001b[0m \u001b[0mlabelkey\u001b[0m \u001b[1;33m=\u001b[0m \u001b[0mlabels\u001b[0m\u001b[1;33m,\u001b[0m \u001b[0msubdir\u001b[0m\u001b[1;33m=\u001b[0m\u001b[1;32mTrue\u001b[0m\u001b[1;33m)\u001b[0m\u001b[1;33m\u001b[0m\u001b[0m\n",
      "\u001b[1;31mNameError\u001b[0m: name 'coralutils' is not defined"
     ]
    }
   ],
   "source": [
    "# Test export of patches from map\n",
    "\n",
    "transect1_path = '../Images/Transect 1 Hi-Res.tiff'\n",
    "transect1_truth_path = '../Images/Transect 1 Truth data.tif'\n",
    "output_trainpath = '../Images/Training_Patches/'\n",
    "output_trainrefpath = '../Images/TrainingRef_Patches/'\n",
    "output_trainfilename = 'NeMO_train.txt'\n",
    "output_validpath = '../Images/Valid_Patches/'\n",
    "output_validrefpath = '../Images/ValidRef_Patches/'\n",
    "output_validfilename = 'NeMO_valid.txt'\n",
    "\n",
    "image_size = 25\n",
    "labels = ('Sand', 'Branching', 'Mounding', 'Rock')\n",
    "Transect1 = coralutils.CoralData(transect1_path, Truthpath=transect1_truth_path, truth_key=[16,160,198,38], load_type=\"cv2\")\n",
    "print(\"Outputing Training...\")\n",
    "Transect1.export_segmentation_map(output_trainpath, output_trainrefpath, output_trainfilename, image_size = image_size, N = 1000, lastchannelremove = True, labelkey = labels, subdir=True)\n",
    "print(\"\\n\")\n",
    "print(\"Outputing Validation...\")\n",
    "Transect1.export_segmentation_map(output_validpath, output_validrefpath, output_validfilename, image_size = image_size, N = 100, lastchannelremove = True, labelkey = labels, subdir=True)"
   ]
  },
  {
   "cell_type": "code",
   "execution_count": 3,
   "metadata": {},
   "outputs": [
    {
     "name": "stdout",
     "output_type": "stream",
     "text": [
      "[  0  63 127]\n"
     ]
    }
   ],
   "source": [
    "loadtruthpath = '../Images/TrainingRef_Patches/Mounding/Mounding_00000003.png'\n",
    "\n",
    "a = cv2.imread(loadtruthpath,0)\n",
    "print(np.unique(a))"
   ]
  },
  {
   "cell_type": "code",
   "execution_count": 2,
   "metadata": {
    "scrolled": false
   },
   "outputs": [
    {
     "name": "stdout",
     "output_type": "stream",
     "text": [
      "truth classes:  [ 0  1  2  3  4  5  6  7  8  9 10 11 12 13 14 15 16 17 18 19 20 21 22 23]\n",
      "Class 0 contains 4232990 pixels\n",
      "Class 1 contains 98653 pixels\n",
      "Class 2 contains 31426 pixels\n",
      "Class 3 contains 68930 pixels\n",
      "Class 4 contains 513038 pixels\n",
      "Class 5 contains 131118 pixels\n",
      "Class 6 contains 11160 pixels\n",
      "Class 7 contains 77506 pixels\n",
      "Class 8 contains 24032 pixels\n",
      "Class 9 contains 170784 pixels\n",
      "Class 10 contains 1451 pixels\n",
      "Class 11 contains 260634 pixels\n",
      "Class 12 contains 1738521 pixels\n",
      "Class 13 contains 10095 pixels\n",
      "Class 14 contains 359891 pixels\n",
      "Class 15 contains 107151 pixels\n",
      "Class 16 contains 44774 pixels\n",
      "Class 17 contains 36165 pixels\n",
      "Class 18 contains 228034 pixels\n",
      "Class 19 contains 19017 pixels\n",
      "Class 20 contains 136318 pixels\n",
      "Class 21 contains 496901 pixels\n",
      "Class 22 contains 5240615 pixels\n",
      "Class 23 contains 144821 pixels\n"
     ]
    }
   ],
   "source": [
    "# Test export of patches from gdal\n",
    "imgpath = '../Images/BTPB-WV2-2012-15-8Band-mosaic-GeoTiff-Sample-AOI/BTPB-WV2-2012-15-8Band-mosaic-GeoTiff-Sample-AOI.tif'\n",
    "tfwpath = '../Images/BTPB-WV2-2012-15-8Band-mosaic-GeoTiff-Sample-AOI/BTPB-WV2-2012-15-8Band-mosaic-GeoTiff-Sample-AOI.tfw'\n",
    "truthpath = '../Images/BIOT-PerosBanhos-sample-habitat-map/BIOT-PerosBanhos-sample-habitat-map.shp'\n",
    "output_trainpath = '../Images/LO_Training_Patches/'\n",
    "output_trainrefpath = '../Images/LO_TrainingRef_Patches/'\n",
    "output_trainfilename = 'rastertrain.txt'\n",
    "output_validpath = '../Images/LO_Valid_Patches/'\n",
    "output_validrefpath = '../Images/LO_ValidRef_Patches/'\n",
    "output_validfilename = 'rastervalid.txt'\n",
    "\n",
    "PerosBanhos = coralutils.CoralData(imgpath, Truthpath=truthpath, load_type=\"raster\", tfwpath=tfwpath)\n",
    "print(\"Outputing Training...\")\n",
    "PerosBanhos.export_segmentation_map(output_trainpath, output_trainrefpath, \n",
    "                                    output_trainfilename, image_size=25, N=100, lastchannelremove=False, \n",
    "                                    labelkey = PerosBanhos.class_labels, subdir=True)\n",
    "print(\"\\n\")\n",
    "print(\"Outputing Validation...\")\n",
    "PerosBanhos.export_segmentation_map(output_validpath, output_validrefpath, \n",
    "                                    output_validfilename, image_size=25, N=10, lastchannelremove=False, \n",
    "                                    labelkey = PerosBanhos.class_labels, subdir=True)"
   ]
  },
  {
   "cell_type": "code",
   "execution_count": 3,
   "metadata": {},
   "outputs": [
    {
     "name": "stdout",
     "output_type": "stream",
     "text": [
      "['NoData', 'shallow fore reef terrace', 'Beach', 'back reef - sediment dominated', 'lagoonal floor - barren', 'terrestrial vegetation', 'Rocky beach', 'back reef - pavement', 'dense seagrass meadows', 'lagoonal fringing reefs', 'Inland waters', 'back reef coral framework', 'deep ocean water', 'Clouds', 'back reef - rubble dominated', 'deep fore reef slope', 'mangroves', 'coralline algal ridge (reef crest)', 'lagoonal patch reefs', 'Wetlands', 'fore reef sand flats', 'shallow fore reef slope', 'deep lagoonal water', 'lagoonal sediment apron - sediment dominated']\n",
      "24\n",
      "(3272, 4330, 8)\n",
      "(3272, 4330)\n"
     ]
    }
   ],
   "source": [
    "print(PerosBanhos.class_labels)\n",
    "print(PerosBanhos.num_classes)\n",
    "print(PerosBanhos.image.shape)\n",
    "print(PerosBanhos.truthimage.shape)"
   ]
  },
  {
   "cell_type": "code",
   "execution_count": null,
   "metadata": {},
   "outputs": [],
   "source": []
  }
 ],
 "metadata": {
  "kernelspec": {
   "display_name": "Python 3",
   "language": "python",
   "name": "python3"
  },
  "language_info": {
   "codemirror_mode": {
    "name": "ipython",
    "version": 3
   },
   "file_extension": ".py",
   "mimetype": "text/x-python",
   "name": "python",
   "nbconvert_exporter": "python",
   "pygments_lexer": "ipython3",
   "version": "3.6.2"
  }
 },
 "nbformat": 4,
 "nbformat_minor": 2
}
