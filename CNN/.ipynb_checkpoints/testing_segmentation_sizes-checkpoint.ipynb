{
 "cells": [
  {
   "cell_type": "markdown",
   "metadata": {},
   "source": [
    "## testing generate_segmented_map; various image sizes"
   ]
  },
  {
   "cell_type": "code",
   "execution_count": 1,
   "metadata": {},
   "outputs": [
    {
     "name": "stderr",
     "output_type": "stream",
     "text": [
      "Using TensorFlow backend.\n"
     ]
    }
   ],
   "source": [
    "from __future__ import print_function\n",
    "from hyperopt import Trials, STATUS_OK, tpe\n",
    "from hyperas import optim\n",
    "from hyperas.distributions import choice, uniform, conditional\n",
    "from hyperas.utils import eval_hyperopt_space\n",
    "from keras.models import Sequential\n",
    "from keras.optimizers import Adam, SGD, RMSprop\n",
    "from keras.callbacks import ReduceLROnPlateau, CSVLogger, EarlyStopping, ModelCheckpoint, TerminateOnNaN, TensorBoard\n",
    "from keras.layers.core import Dense, Dropout, Activation\n",
    "from keras.datasets import mnist\n",
    "from keras.utils import np_utils\n",
    "from keras.backend import clear_session\n",
    "import os\n",
    "import datetime\n",
    "import numpy, json\n",
    "import keras\n",
    "import keras.backend as K\n",
    "import tensorflow as tf\n",
    "import globalvars\n",
    "import matplotlib.pyplot as plt\n",
    "from   datetime import time\n",
    "from   tabulate import tabulate\n",
    "\n",
    "import sys\n",
    "sys.path.append(\"./utils/\")\n",
    "import loadcoraldata_utils as coralutils\n",
    "sys.path.append(\"./hyperparamopt_utils/\")\n",
    "from   train2opt import TrainOptimizer\n",
    "from NeMO_models import FCN\n",
    "from NeMO_generator import NeMOImageGenerator, ImageSetLoader"
   ]
  },
  {
   "cell_type": "code",
   "execution_count": null,
   "metadata": {},
   "outputs": [],
   "source": [
    "optModel = TrainOptimizer(labelkey=('Sand', 'Branching', 'Mounding', 'Rock'), \n",
    "              input_shape=(150,150,3), row_patch_size = 150, col_patch_size = 150, image_size = 150,\n",
    "              train_image_path='../Images/Training_Patches/',\n",
    "              train_label_path = '../Images/TrainingRef_Patches/', train_out_file = 'NeMO_train.txt',\n",
    "              valid_image_path = '../Images/Valid_Patches/', valid_label_path = '../Images/ValidRef_Patches/',\n",
    "              valid_out_file = 'NeMO_valid.txt', \n",
    "              test_image_path = '../Images/Test_Patches/', test_label_path = '../Images/TestRef_Patches/',\n",
    "              valid_out_file = 'NeMO_test.txt', \n",
    "              pixel_mean = [127.5, 127.5, 127.5], pixel_std = [127.5, 127.5, 127.5],\n",
    "              num_classes = 4, model = FCN, model_name = \"NeMO_FCN\")"
   ]
  }
 ],
 "metadata": {
  "kernelspec": {
   "display_name": "Python 3",
   "language": "python",
   "name": "python3"
  },
  "language_info": {
   "codemirror_mode": {
    "name": "ipython",
    "version": 3
   },
   "file_extension": ".py",
   "mimetype": "text/x-python",
   "name": "python",
   "nbconvert_exporter": "python",
   "pygments_lexer": "ipython3",
   "version": "3.6.3"
  }
 },
 "nbformat": 4,
 "nbformat_minor": 2
}
