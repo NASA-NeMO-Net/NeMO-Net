{
 "cells": [
  {
   "cell_type": "code",
   "execution_count": 224,
   "metadata": {
    "collapsed": true
   },
   "outputs": [],
   "source": [
    "# WRITTEN BY ALAN LI\n",
    "# NASA AMES LABORATORY FOR ADVANCED SENSING (LAS)\n",
    "# Last edited: Aug 10, 2017\n",
    "\n",
    "import sys\n",
    "import random\n",
    "import numpy as np\n",
    "import cv2\n",
    "import tensorflow as tf\n",
    "from matplotlib import pyplot as plt\n",
    "from collections import Counter\n",
    "\n",
    "# Config the matplotlib backend as plotting in line in IPython\n",
    "%matplotlib inline"
   ]
  },
  {
   "cell_type": "code",
   "execution_count": 287,
   "metadata": {
    "collapsed": true
   },
   "outputs": [],
   "source": [
    "# Image paths\n",
    "transect1 = '../Images/Transect 1 Hi-Res.tiff'\n",
    "transect1_truth = '../Images/Transect 1 Truth data.tif'\n",
    "\n",
    "# Load images\n",
    "img1 = cv2.imread(transect1,cv2.IMREAD_UNCHANGED)\n",
    "img1_truth = cv2.imread(transect1_truth,cv2.IMREAD_UNCHANGED)\n",
    "                \n",
    "# Remap truth data\n",
    "if transect1_truth == '../Images/Transect 1 Truth data.tif':\n",
    "    img1_truth[img1_truth == 16] = 0  # Sand\n",
    "    img1_truth[img1_truth == 160] = 1 # Branching\n",
    "    img1_truth[img1_truth == 198] = 2 # Mounding\n",
    "    img1_truth[img1_truth == 38] = 3 # Rock\n",
    "\n",
    "# NOTE: N_images = number of images in a set (e.g. training set, validation set, etc...)\n",
    "#       N_labels = # of classified pixels associated with an image (i.e. Might want to classify 4 central pixels of a NxN image)\n",
    "#       num_labels = # of labels (e.g. sand, rock, branching, mounding)\n",
    "#### Randomize set of data\n",
    "'''Input:\n",
    "    dataset: set of images, N_images x (nrow*ncol) x n_channels\n",
    "    labels: set of labels, N_images x N_labels x num_labels \n",
    "Output:\n",
    "    shuffled_dataset: set of randomized images, N_images x (nrow*ncol) x (n_channels-n_toremove)\n",
    "    shuffled_labels: set of randomized labels, N_images x N_labels x num_labels\n",
    "'''\n",
    "def randomize(dataset, labels):\n",
    "    permutation = np.random.permutation(labels.shape[0])\n",
    "    shuffled_dataset = dataset[permutation,:,:]\n",
    "    shuffled_labels = labels[permutation,:,:]\n",
    "    return shuffled_dataset, shuffled_labels    \n",
    "    \n",
    "#### Reformat image into input vector style and randomize\n",
    "'''Input:\n",
    "    imgset: set of images, N_images x nrow x ncol x n_channels\n",
    "    toremove: index of channel dimension to remove\n",
    "    labels: set of labels, N_images x N_labels (N_labels > 1 when we want to classify a number of pixels per image) \n",
    "    num_labels: number of possible labels for the entire dataset (4 for morphology, 2 for coral cover)\n",
    "Output:\n",
    "    dataset: set of vectorized images, N_images x (nrow*ncol) x (n_channels-n_toremove)\n",
    "    labels: set of vectorized labels in the form of logits, N_images x N_labels x num_labels\n",
    "'''\n",
    "def reformat(imgset, toremove, labels, num_labels):    \n",
    "    imgsetcut = imgset\n",
    "    if toremove is not None:\n",
    "        imgsetcut = np.delete(imgset,toremove,-1) # Remove specific last dimension of array\n",
    "    dataset = imgsetcut.reshape((-1, imgsetcut.shape[1]*imgsetcut.shape[2],imgsetcut.shape[3])).astype(np.float32)\n",
    "    labels = np.asarray([[(np.arange(num_labels) == labels[i,j]).astype(np.float32) for j in range(labels.shape[1])] for i in range(dataset.shape[0])])\n",
    "    dataset, labels = randomize(dataset, labels)\n",
    "    return dataset, labels\n",
    "\n",
    "#### Normalize Image\n",
    "'''Input:\n",
    "    dataset: set of vectorized images, N_images x (nrow*nocl) x n_channels\n",
    "    depth: pixel depth, float\n",
    "Output:\n",
    "    dataset_norm: set of vectorized normalized images, N_images x (nrow*ncol) x n_channels'''\n",
    "def rescale(dataset, depth):\n",
    "    dataset_norm = (dataset.astype(np.float32) - depth/2)/(depth/2)\n",
    "    return dataset_norm"
   ]
  },
  {
   "cell_type": "code",
   "execution_count": 273,
   "metadata": {
    "collapsed": true
   },
   "outputs": [],
   "source": [
    "# Create Training, Validation and Test sets (could probably write a function for this later instead...)\n",
    "\n",
    "num_labels = 4\n",
    "image_size = 25 # side length of one sample image\n",
    "N_train = 20000 # number of training samples per class\n",
    "N_valid = 2500 # number of validation samples per class\n",
    "N_test = 2500 # number of test samples per class\n",
    "crop_len = int(np.floor(image_size/2))\n",
    "img1_truth_crop = img1_truth[crop_len:img1_truth.shape[0]-crop_len, crop_len:img1_truth.shape[1]-crop_len]\n",
    "\n",
    "# Randomly select points\n",
    "train_datasets = []\n",
    "train_labels = []\n",
    "valid_datasets = []\n",
    "valid_labels =[]\n",
    "test_datasets = []\n",
    "test_labels = []\n",
    "\n",
    "for k in range(num_labels):\n",
    "    [i,j] = np.where(img1_truth_crop == k)\n",
    "    # Training set\n",
    "    idx = np.asarray(random.sample(range(len(i)), N_train)).astype(int)\n",
    "    train_datasets.append([img1[i[idx[nn]]:i[idx[nn]]+image_size, j[idx[nn]]:j[idx[nn]]+image_size, :] for nn in range(len(idx))])\n",
    "    train_labels.append([img1_truth_crop[i[idx[nn]], j[idx[nn]]] for nn in range(len(idx))])\n",
    "    # Validation set\n",
    "    idx = np.asarray(random.sample(range(len(i)), N_valid)).astype(int)\n",
    "    valid_datasets.append([img1[i[idx[nn]]:i[idx[nn]]+image_size, j[idx[nn]]:j[idx[nn]]+image_size, :] for nn in range(len(idx))])\n",
    "    valid_labels.append([img1_truth_crop[i[idx[nn]], j[idx[nn]]] for nn in range(len(idx))])\n",
    "    # Test set\n",
    "    idx = np.asarray(random.sample(range(len(i)), N_test)).astype(int)\n",
    "    test_datasets.append([img1[i[idx[nn]]:i[idx[nn]]+image_size, j[idx[nn]]:j[idx[nn]]+image_size, :] for nn in range(len(idx))])\n",
    "    test_labels.append([img1_truth_crop[i[idx[nn]], j[idx[nn]]] for nn in range(len(idx))])\n",
    "\n",
    "# Some array handling and reshaping\n",
    "train_datasets = np.asarray(train_datasets) # train_datasets is in the format of num_labels x N_train x nrows x ncols x n_channels\n",
    "train_labels = np.asarray(train_labels) # train_labels is in the format of num_labels x N_train\n",
    "valid_datasets = np.asarray(valid_datasets)\n",
    "valid_labels = np.asarray(valid_labels) \n",
    "test_datasets = np.asarray(test_datasets) \n",
    "test_labels = np.asarray(test_labels) \n",
    "\n",
    "train_datasets = train_datasets.reshape(num_labels*N_train, image_size, image_size, img1.shape[-1]) # flatten first 2 dimensions of train_datasets\n",
    "train_labels = train_labels.reshape(num_labels*N_train,1) # flatten into vector\n",
    "valid_datasets = valid_datasets.reshape(num_labels*N_valid, image_size, image_size, img1.shape[-1]) \n",
    "valid_labels = valid_labels.reshape(num_labels*N_valid,1) \n",
    "test_datasets = test_datasets.reshape(num_labels*N_test, image_size, image_size, img1.shape[-1]) \n",
    "test_labels = test_labels.reshape(num_labels*N_test,1) "
   ]
  },
  {
   "cell_type": "code",
   "execution_count": 274,
   "metadata": {},
   "outputs": [
    {
     "data": {
      "image/png": "[encoded data removed]",
      "text/plain": [
       "<matplotlib.figure.Figure at 0x118f025c0>"
      ]
     },
     "metadata": {},
     "output_type": "display_data"
    }
   ],
   "source": [
    "# Plot sample images of different classes\n",
    "for i in range(num_labels):\n",
    "    plt.axis(\"off\")\n",
    "    plt.subplot(1, num_labels, i+1)\n",
    "    plt.imshow(cv2.cvtColor(train_datasets[i*N_train,:,:,0:3], cv2.COLOR_BGR2RGB))\n",
    "plt.axis(\"off\")\n",
    "plt.show()"
   ]
  },
  {
   "cell_type": "code",
   "execution_count": 288,
   "metadata": {},
   "outputs": [
    {
     "name": "stdout",
     "output_type": "stream",
     "text": [
      "(80000, 625, 3) (80000, 1, 4)\n",
      "(10000, 625, 3) (10000, 1, 4)\n",
      "(10000, 625, 3) (10000, 1, 4)\n"
     ]
    }
   ],
   "source": [
    "depth = 255.0\n",
    "\n",
    "# More array operations, randomize sets, and normalize from -1 to 1\n",
    "train_dataset, train_labelset = reformat(train_datasets, 3, train_labels, num_labels) # Reformat shape into batch arrays\n",
    "valid_dataset, valid_labelset = reformat(valid_datasets, 3, valid_labels, num_labels)\n",
    "test_dataset, test_labelset = reformat(test_datasets, 3, test_labels, num_labels)\n",
    "print(train_dataset.shape, train_labelset.shape)\n",
    "print(valid_dataset.shape, valid_labelset.shape)\n",
    "print(test_dataset.shape, test_labelset.shape)\n",
    "\n",
    "train_dataset = rescale(train_dataset,depth)\n",
    "valid_dataset = rescale(valid_dataset,depth)\n",
    "test_dataset = rescale(test_dataset,depth)"
   ]
  },
  {
   "cell_type": "code",
   "execution_count": null,
   "metadata": {
    "collapsed": true
   },
   "outputs": [],
   "source": [
    "#TEST"
   ]
  },
  {
   "cell_type": "code",
   "execution_count": null,
   "metadata": {
    "collapsed": true
   },
   "outputs": [],
   "source": []
  }
 ],
 "metadata": {
  "kernelspec": {
   "display_name": "Python 3",
   "language": "python",
   "name": "python3"
  },
  "language_info": {
   "codemirror_mode": {
    "name": "ipython",
    "version": 3
   },
   "file_extension": ".py",
   "mimetype": "text/x-python",
   "name": "python",
   "nbconvert_exporter": "python",
   "pygments_lexer": "ipython3",
   "version": "3.6.2"
  }
 },
 "nbformat": 4,
 "nbformat_minor": 2
}
