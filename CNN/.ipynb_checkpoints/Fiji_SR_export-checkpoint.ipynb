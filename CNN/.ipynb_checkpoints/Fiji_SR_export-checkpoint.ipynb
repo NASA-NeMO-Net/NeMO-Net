{
 "cells": [
  {
   "cell_type": "code",
   "execution_count": 1,
   "metadata": {},
   "outputs": [
    {
     "name": "stderr",
     "output_type": "stream",
     "text": [
      "Using TensorFlow backend.\n",
      "/usr/lib/python3.6/importlib/_bootstrap.py:219: RuntimeWarning: numpy.dtype size changed, may indicate binary incompatibility. Expected 96, got 88\n",
      "  return f(*args, **kwds)\n"
     ]
    }
   ],
   "source": [
    "import sys\n",
    "sys.path.append(\"./utils/\") # Adds higher directory to python modules path.\n",
    "import random\n",
    "import numpy as np\n",
    "import cv2\n",
    "import yaml\n",
    "import glob, os\n",
    "import loadcoraldata_utils as coralutils\n",
    "import json\n",
    "import importlib\n",
    "from NeMO_generator import NeMOImageGenerator, ImageSetLoader\n",
    "from osgeo import gdal\n",
    "from sklearn.manifold import TSNE\n",
    "\n",
    "from matplotlib import colors\n",
    "import matplotlib.patches as mpatches\n",
    "from mpl_toolkits.mplot3d import Axes3D\n",
    "from matplotlib import pyplot as plt\n",
    "%matplotlib notebook"
   ]
  },
  {
   "cell_type": "code",
   "execution_count": null,
   "metadata": {},
   "outputs": [],
   "source": [
    "jsonpath = './utils/CoralClasses.json'\n",
    "with open(jsonpath) as json_file:\n",
    "    json_data = json.load(json_file)\n",
    "consolclass_count = dict((k, 0) for k in json_data[\"VedConsolidated_ClassDict\"])\n",
    "\n",
    "cmap = colors.ListedColormap(['xkcd:pink', 'xkcd:grey', 'xkcd:tan', 'xkcd:olive', 'xkcd:forest', 'xkcd:blue',\n",
    "                              'xkcd:lilac', 'xkcd:cyan', 'xkcd:orange'])\n",
    "\n",
    "mosaics = [1,2,3,4,5,6,10,11,12,13,14,15,16,17,18,20,21,23,24,25,26,27,28,29,30,31,32,33,34,35,36,37,38,39,40,41]\n",
    "\n",
    "output_trainpath = '../Images/Fiji_SR_Patches_64/'\n",
    "output_trainrefpath = '../Images/Fiji_SR_Patches_256/'\n",
    "if not os.path.exists(output_trainpath):\n",
    "    os.makedirs(output_trainpath)\n",
    "if not os.path.exists(output_trainpath):\n",
    "    os.makedirs(output_trainrefpath)\n",
    "output_trainfilename = 'rastertrain.txt'\n",
    "\n",
    "for mosaic_count in mosaics:\n",
    "    print(\"Mosaic Count: \", mosaic_count)\n",
    "    imgpath = '/home/shared/NeMO-Net Data/processed_Fiji_files/mosaiced_' + str(mosaic_count).zfill(3) + '.TIF'\n",
    "    truthpath = '/home/shared/NeMO-Net Data/processed_Fiji_files/truth_classes_wcldMask_' + str(mosaic_count).zfill(3) + '.TIF'\n",
    "\n",
    "    Fiji = coralutils.CoralData(imgpath, Truthpath=truthpath, truth_key=json_data[\"Fiji_ClassDict\"], load_type=\"raster\")\n",
    "    Fiji.Consolidate_classes(newclassdict=json_data[\"L3_ClassDict\"], transferdict=json_data[\"Fiji2L3_Dict\"])\n",
    "    Fiji.Consolidate_classes(newclassdict=json_data[\"VedConsolidated_ClassDict\"], transferdict=json_data[\"L32VedConsolidated_Dict\"])\n",
    "    \n",
    "    \n",
    "    print(\"Outputing Training...\")\n",
    "    Fiji.export_segmentation_map(output_trainpath, output_trainrefpath, \n",
    "                                        output_trainfilename, image_size=256, magnification=4, magimg_path=imgpath, \n",
    "                                        N=10, lastchannelremove=False, \n",
    "                                        subdir=True, cont=True, consolidated = True, \n",
    "                                        exporttype=gdal.GDT_Byte, label_cmap=cmap)\n",
    "    print(\"\\n\")\n",
    "    # print(\"Outputing Validation...\")\n",
    "    # Fiji.export_segmentation_map(output_validpath, output_validrefpath, \n",
    "    #                                     output_validfilename, image_size=256, N=5, lastchannelremove=False, \n",
    "    #                                     subdir=True, cont=True, consolidated = True,\n",
    "    #                                     mosaic_mean = mosaic_mean, mosaic_std = mosaic_std)\n",
    "    \n",
    "    for k in Fiji.consolidated_class_dict:\n",
    "        consolclass_count[k] = consolclass_count[k] + Fiji.consolclass_count[k]\n",
    "        \n",
    "total_pixels = np.sum([consolclass_count[k] for k in Fiji.consolidated_class_dict])\n",
    "consolclass_weights = dict((k, total_pixels/consolclass_count[k]) for k in Fiji.consolidated_class_dict)\n",
    "for k in consolclass_weights:\n",
    "    if consolclass_weights[k] == float(\"inf\"):\n",
    "        consolclass_weights[k] = 0"
   ]
  }
 ],
 "metadata": {
  "kernelspec": {
   "display_name": "Python 3",
   "language": "python",
   "name": "python3"
  },
  "language_info": {
   "codemirror_mode": {
    "name": "ipython",
    "version": 3
   },
   "file_extension": ".py",
   "mimetype": "text/x-python",
   "name": "python",
   "nbconvert_exporter": "python",
   "pygments_lexer": "ipython3",
   "version": "3.6.5"
  }
 },
 "nbformat": 4,
 "nbformat_minor": 2
}
