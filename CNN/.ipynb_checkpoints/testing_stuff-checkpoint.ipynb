{
 "cells": [
  {
   "cell_type": "code",
   "execution_count": 3,
   "metadata": {},
   "outputs": [],
   "source": [
    "# test editing yml file\n",
    "import yaml"
   ]
  },
  {
   "cell_type": "code",
   "execution_count": 4,
   "metadata": {},
   "outputs": [],
   "source": [
    "def set_state(state):\n",
    "    with open('init_args_test.yml') as f:\n",
    "        doc = yaml.load(f)\n",
    "\n",
    "    doc['target_size'] = state\n",
    "\n",
    "    with open('init_args_test.yml', 'w') as f:\n",
    "        yaml.dump(doc, f)"
   ]
  },
  {
   "cell_type": "code",
   "execution_count": 5,
   "metadata": {},
   "outputs": [],
   "source": [
    "set_state('200')"
   ]
  },
  {
   "cell_type": "code",
   "execution_count": 8,
   "metadata": {},
   "outputs": [
    {
     "name": "stdout",
     "output_type": "stream",
     "text": [
      "init_args_type <class 'dict'>\n",
      "{'image_set_loader': {'val': {'image_format': 'png', 'image_dir': '../Images/Valid_Patches/', 'label_format': 'png', 'image_set': '../Images/Valid_Patches/NeMO_valid.txt', 'target_size': [100, 100], 'label_dir': '../Images/ValidRef_Patches/', 'color_mode': 'rgb'}, 'test': {'image_format': 'jpg', 'image_dir': '../data/VOC2011/JPEGImages/', 'label_format': 'png', 'image_set': '../data/VOC2011/ImageSets/Segmentation/test.txt', 'target_size': [224, 224], 'label_dir': '../data/VOC2011/SegmentationClass', 'color_mode': 'rgb'}, 'train': {'image_format': 'png', 'image_dir': '../Images/Training_Patches/', 'label_format': 'png', 'image_set': '../Images/Training_Patches/NeMO_train.txt', 'target_size': [100, 100], 'label_dir': '../Images/TrainingRef_Patches/', 'color_mode': 'rgb'}}}\n"
     ]
    }
   ],
   "source": [
    "with open(\"init_args.yml\", 'r') as stream:\n",
    "            try:\n",
    "                init_args = yaml.load(stream)\n",
    "                print(\"init_args_type\",type(init_args))\n",
    "                print(init_args)\n",
    "            except yaml.YAMLError as exc:\n",
    "                print(exc)\n"
   ]
  },
  {
   "cell_type": "code",
   "execution_count": 2,
   "metadata": {},
   "outputs": [
    {
     "name": "stdout",
     "output_type": "stream",
     "text": [
      "(32,)\n",
      "[32]\n"
     ]
    }
   ],
   "source": [
    "# batch size test\n",
    "batch_size = 32,\n",
    "print(batch_size)\n",
    "batch_size_list = list(batch_size)\n",
    "print(batch_size_list)"
   ]
  },
  {
   "cell_type": "code",
   "execution_count": 4,
   "metadata": {},
   "outputs": [
    {
     "name": "stdout",
     "output_type": "stream",
     "text": [
      "[0.001]\n"
     ]
    }
   ],
   "source": [
    "lr = 1e-3,\n",
    "lr_list = list(lr)\n",
    "print(lr_list)"
   ]
  },
  {
   "cell_type": "code",
   "execution_count": 5,
   "metadata": {},
   "outputs": [
    {
     "name": "stdout",
     "output_type": "stream",
     "text": [
      "adam\n",
      "['a', 'd', 'a', 'm']\n"
     ]
    }
   ],
   "source": [
    "optimizer = 'adam'\n",
    "print(optimizer)\n",
    "optimizer_list=list(optimizer)\n",
    "print(optimizer_list)"
   ]
  },
  {
   "cell_type": "code",
   "execution_count": 6,
   "metadata": {},
   "outputs": [
    {
     "name": "stdout",
     "output_type": "stream",
     "text": [
      "['adam']\n",
      "<class 'list'>\n"
     ]
    }
   ],
   "source": [
    "optimizer=['adam']\n",
    "print(optimizer)\n",
    "print(type(optimizer))"
   ]
  },
  {
   "cell_type": "code",
   "execution_count": 7,
   "metadata": {},
   "outputs": [
    {
     "name": "stdout",
     "output_type": "stream",
     "text": [
      "[32]\n",
      "<class 'list'>\n"
     ]
    }
   ],
   "source": [
    "batch_size=[32]\n",
    "print(batch_size)\n",
    "print(type(batch_size))"
   ]
  },
  {
   "cell_type": "code",
   "execution_count": 12,
   "metadata": {},
   "outputs": [
    {
     "name": "stdout",
     "output_type": "stream",
     "text": [
      "[32, 64, 256]\n",
      "<class 'list'>\n",
      "7\n"
     ]
    }
   ],
   "source": [
    "batch_size=[32,64, 256]\n",
    "print(batch_size)\n",
    "print(type(batch_size))\n",
    "nb_train = 800\n",
    "steps_per_epoch = 2000//256\n",
    "print(steps_per_epoch)"
   ]
  },
  {
   "cell_type": "code",
   "execution_count": 16,
   "metadata": {},
   "outputs": [
    {
     "name": "stdout",
     "output_type": "stream",
     "text": [
      "[62 31  7]\n",
      "[62 31  7]\n"
     ]
    }
   ],
   "source": [
    "#s=[2000,2000,2000]//[32,64,256]\n",
    "#print(s)\n",
    "import numpy as np\n",
    "s=np.array([2000,2000,2000])//np.array([32,64,256])\n",
    "print(s)\n",
    "s=2000//np.array([32,64,256])\n",
    "print(s)"
   ]
  },
  {
   "cell_type": "code",
   "execution_count": 18,
   "metadata": {},
   "outputs": [
    {
     "name": "stdout",
     "output_type": "stream",
     "text": [
      "[ 8 16]\n"
     ]
    }
   ],
   "source": [
    "# divide list\n",
    "ss=np.array([32,64])//4\n",
    "print(ss)"
   ]
  },
  {
   "cell_type": "code",
   "execution_count": 20,
   "metadata": {},
   "outputs": [
    {
     "name": "stdout",
     "output_type": "stream",
     "text": [
      "<class 'numpy.ndarray'>\n"
     ]
    }
   ],
   "source": [
    "print(type(ss))"
   ]
  },
  {
   "cell_type": "code",
   "execution_count": 22,
   "metadata": {},
   "outputs": [
    {
     "name": "stdout",
     "output_type": "stream",
     "text": [
      "<class 'list'>\n"
     ]
    }
   ],
   "source": [
    "ss_list = list(ss)\n",
    "print(type(ss_list))"
   ]
  },
  {
   "cell_type": "markdown",
   "metadata": {},
   "source": [
    "# test calling a function within a function:"
   ]
  },
  {
   "cell_type": "code",
   "execution_count": 23,
   "metadata": {},
   "outputs": [
    {
     "name": "stderr",
     "output_type": "stream",
     "text": [
      "Using TensorFlow backend.\n"
     ]
    }
   ],
   "source": [
    "import os\n",
    "import yaml\n",
    "import datetime\n",
    "import numpy as np\n",
    "import keras\n",
    "import keras.backend as K\n",
    "import tensorflow as tf\n",
    "import sys\n",
    "sys.path.append(\"./utils/\") # Adds higher directory to python modules path.\n",
    "#sys.path.append(\"./tmp/\")\n",
    "from NeMO_models import FCN\n",
    "from NeMO_generator import NeMOImageGenerator, ImageSetLoader\n",
    "from keras.callbacks import (\n",
    "    ReduceLROnPlateau,\n",
    "    CSVLogger,\n",
    "    EarlyStopping,\n",
    "    ModelCheckpoint,\n",
    "    TerminateOnNaN)\n",
    "from NeMO_callbacks import CheckNumericsOps, WeightsSaver\n"
   ]
  },
  {
   "cell_type": "code",
   "execution_count": 38,
   "metadata": {},
   "outputs": [],
   "source": [
    "def import_model(model = FCN):\n",
    "    import os\n",
    "    import yaml\n",
    "    import datetime\n",
    "    import numpy as np\n",
    "    import keras\n",
    "    import keras.backend as K\n",
    "    import tensorflow as tf\n",
    "    import sys\n",
    "    sys.path.append(\"./utils/\") # Adds higher directory to python modules path.\n",
    "    #sys.path.append(\"./tmp/\")\n",
    "    from NeMO_models import FCN\n",
    "    from NeMO_generator import NeMOImageGenerator, ImageSetLoader\n",
    "    from keras.callbacks import (\n",
    "        ReduceLROnPlateau,\n",
    "        CSVLogger,\n",
    "        EarlyStopping,\n",
    "        ModelCheckpoint,\n",
    "        TerminateOnNaN)\n",
    "    from NeMO_callbacks import CheckNumericsOps, WeightsSaver\n",
    "\n",
    "    #model2train = model\n",
    "    \n",
    "    return model.summary()"
   ]
  },
  {
   "cell_type": "code",
   "execution_count": 41,
   "metadata": {},
   "outputs": [
    {
     "name": "stdout",
     "output_type": "stream",
     "text": [
      "Loading weights...\n"
     ]
    }
   ],
   "source": [
    "fcn_vgg16 = FCN(input_shape=(100,100,3), classes=4, weight_decay = 3e-3,\n",
    "                        weights='imagenet', trainable_encoder=True)"
   ]
  },
  {
   "cell_type": "code",
   "execution_count": 43,
   "metadata": {},
   "outputs": [
    {
     "name": "stdout",
     "output_type": "stream",
     "text": [
      "__________________________________________________________________________________________________\n",
      "Layer (type)                    Output Shape         Param #     Connected to                     \n",
      "==================================================================================================\n",
      "input_1 (InputLayer)            (None, 100, 100, 3)  0                                            \n",
      "__________________________________________________________________________________________________\n",
      "block1_conv1 (Conv2D)           (None, 100, 100, 64) 1792        input_1[0][0]                    \n",
      "__________________________________________________________________________________________________\n",
      "block1_conv2 (Conv2D)           (None, 100, 100, 64) 36928       block1_conv1[0][0]               \n",
      "__________________________________________________________________________________________________\n",
      "block1_pool (MaxPooling2D)      (None, 50, 50, 64)   0           block1_conv2[0][0]               \n",
      "__________________________________________________________________________________________________\n",
      "block2_conv1 (Conv2D)           (None, 50, 50, 128)  73856       block1_pool[0][0]                \n",
      "__________________________________________________________________________________________________\n",
      "block2_conv2 (Conv2D)           (None, 50, 50, 128)  147584      block2_conv1[0][0]               \n",
      "__________________________________________________________________________________________________\n",
      "block2_pool (MaxPooling2D)      (None, 25, 25, 128)  0           block2_conv2[0][0]               \n",
      "__________________________________________________________________________________________________\n",
      "block3_conv1 (Conv2D)           (None, 25, 25, 256)  295168      block2_pool[0][0]                \n",
      "__________________________________________________________________________________________________\n",
      "block3_conv2 (Conv2D)           (None, 25, 25, 256)  590080      block3_conv1[0][0]               \n",
      "__________________________________________________________________________________________________\n",
      "block3_conv3 (Conv2D)           (None, 25, 25, 256)  590080      block3_conv2[0][0]               \n",
      "__________________________________________________________________________________________________\n",
      "block3_pool (MaxPooling2D)      (None, 13, 13, 256)  0           block3_conv3[0][0]               \n",
      "__________________________________________________________________________________________________\n",
      "block4_conv1 (Conv2D)           (None, 13, 13, 512)  1180160     block3_pool[0][0]                \n",
      "__________________________________________________________________________________________________\n",
      "block4_conv2 (Conv2D)           (None, 13, 13, 512)  2359808     block4_conv1[0][0]               \n",
      "__________________________________________________________________________________________________\n",
      "block4_conv3 (Conv2D)           (None, 13, 13, 512)  2359808     block4_conv2[0][0]               \n",
      "__________________________________________________________________________________________________\n",
      "block4_pool (MaxPooling2D)      (None, 7, 7, 512)    0           block4_conv3[0][0]               \n",
      "__________________________________________________________________________________________________\n",
      "block5_conv1 (Conv2D)           (None, 7, 7, 512)    2359808     block4_pool[0][0]                \n",
      "__________________________________________________________________________________________________\n",
      "block5_conv2 (Conv2D)           (None, 7, 7, 512)    2359808     block5_conv1[0][0]               \n",
      "__________________________________________________________________________________________________\n",
      "block5_conv3 (Conv2D)           (None, 7, 7, 512)    2359808     block5_conv2[0][0]               \n",
      "__________________________________________________________________________________________________\n",
      "block5_pool (MaxPooling2D)      (None, 4, 4, 512)    0           block5_conv3[0][0]               \n",
      "__________________________________________________________________________________________________\n",
      "block5_fc6 (Conv2D)             (None, 4, 4, 4096)   102764544   block5_pool[0][0]                \n",
      "__________________________________________________________________________________________________\n",
      "dropout_1 (Dropout)             (None, 4, 4, 4096)   0           block5_fc6[0][0]                 \n",
      "__________________________________________________________________________________________________\n",
      "block5_fc7 (Conv2D)             (None, 4, 4, 4096)   16781312    dropout_1[0][0]                  \n",
      "__________________________________________________________________________________________________\n",
      "dropout_2 (Dropout)             (None, 4, 4, 4096)   0           block5_fc7[0][0]                 \n",
      "__________________________________________________________________________________________________\n",
      "score_feat1 (Conv2D)            (None, 4, 4, 4)      16388       dropout_2[0][0]                  \n",
      "__________________________________________________________________________________________________\n",
      "score_feat2 (Conv2D)            (None, 7, 7, 4)      2052        block4_pool[0][0]                \n",
      "__________________________________________________________________________________________________\n",
      "upscore_feat1 (BilinearUpSampli (None, 7, 7, 4)      0           score_feat1[0][0]                \n",
      "__________________________________________________________________________________________________\n",
      "scale_feat2 (Lambda)            (None, 7, 7, 4)      0           score_feat2[0][0]                \n",
      "__________________________________________________________________________________________________\n",
      "add_1 (Add)                     (None, 7, 7, 4)      0           upscore_feat1[0][0]              \n",
      "                                                                 scale_feat2[0][0]                \n",
      "__________________________________________________________________________________________________\n",
      "score_feat3 (Conv2D)            (None, 13, 13, 4)    1028        block3_pool[0][0]                \n",
      "__________________________________________________________________________________________________\n",
      "upscore_feat2 (BilinearUpSampli (None, 13, 13, 4)    0           add_1[0][0]                      \n",
      "__________________________________________________________________________________________________\n",
      "scale_feat3 (Lambda)            (None, 13, 13, 4)    0           score_feat3[0][0]                \n",
      "__________________________________________________________________________________________________\n",
      "add_2 (Add)                     (None, 13, 13, 4)    0           upscore_feat2[0][0]              \n",
      "                                                                 scale_feat3[0][0]                \n",
      "__________________________________________________________________________________________________\n",
      "upscore_feat3 (BilinearUpSampli (None, 100, 100, 4)  0           add_2[0][0]                      \n",
      "__________________________________________________________________________________________________\n",
      "activation_1 (Activation)       (None, 100, 100, 4)  0           upscore_feat3[0][0]              \n",
      "==================================================================================================\n",
      "Total params: 134,280,012\n",
      "Trainable params: 134,280,012\n",
      "Non-trainable params: 0\n",
      "__________________________________________________________________________________________________\n"
     ]
    }
   ],
   "source": [
    "fcn_vgg16.summary()"
   ]
  },
  {
   "cell_type": "code",
   "execution_count": 47,
   "metadata": {},
   "outputs": [],
   "source": [
    "def import_model(model = None):\n",
    "    import os\n",
    "    import yaml\n",
    "    import datetime\n",
    "    import numpy as np\n",
    "    import keras\n",
    "    import keras.backend as K\n",
    "    import tensorflow as tf\n",
    "    import sys\n",
    "    sys.path.append(\"./utils/\") # Adds higher directory to python modules path.\n",
    "    #sys.path.append(\"./tmp/\")\n",
    "    from NeMO_models import FCN\n",
    "    from NeMO_generator import NeMOImageGenerator, ImageSetLoader\n",
    "    from keras.callbacks import (\n",
    "        ReduceLROnPlateau,\n",
    "        CSVLogger,\n",
    "        EarlyStopping,\n",
    "        ModelCheckpoint,\n",
    "        TerminateOnNaN)\n",
    "    from NeMO_callbacks import CheckNumericsOps, WeightsSaver\n",
    "\n",
    "    if model is not None:\n",
    "        imported_model = model(input_shape=(100,100,3), classes=4, weight_decay = 3e-3,\n",
    "                        weights='imagenet', trainable_encoder=True)\n",
    "        print(imported_model.summary())"
   ]
  },
  {
   "cell_type": "code",
   "execution_count": 48,
   "metadata": {},
   "outputs": [
    {
     "name": "stdout",
     "output_type": "stream",
     "text": [
      "Loading weights...\n",
      "__________________________________________________________________________________________________\n",
      "Layer (type)                    Output Shape         Param #     Connected to                     \n",
      "==================================================================================================\n",
      "input_3 (InputLayer)            (None, 100, 100, 3)  0                                            \n",
      "__________________________________________________________________________________________________\n",
      "block1_conv1 (Conv2D)           (None, 100, 100, 64) 1792        input_3[0][0]                    \n",
      "__________________________________________________________________________________________________\n",
      "block1_conv2 (Conv2D)           (None, 100, 100, 64) 36928       block1_conv1[0][0]               \n",
      "__________________________________________________________________________________________________\n",
      "block1_pool (MaxPooling2D)      (None, 50, 50, 64)   0           block1_conv2[0][0]               \n",
      "__________________________________________________________________________________________________\n",
      "block2_conv1 (Conv2D)           (None, 50, 50, 128)  73856       block1_pool[0][0]                \n",
      "__________________________________________________________________________________________________\n",
      "block2_conv2 (Conv2D)           (None, 50, 50, 128)  147584      block2_conv1[0][0]               \n",
      "__________________________________________________________________________________________________\n",
      "block2_pool (MaxPooling2D)      (None, 25, 25, 128)  0           block2_conv2[0][0]               \n",
      "__________________________________________________________________________________________________\n",
      "block3_conv1 (Conv2D)           (None, 25, 25, 256)  295168      block2_pool[0][0]                \n",
      "__________________________________________________________________________________________________\n",
      "block3_conv2 (Conv2D)           (None, 25, 25, 256)  590080      block3_conv1[0][0]               \n",
      "__________________________________________________________________________________________________\n",
      "block3_conv3 (Conv2D)           (None, 25, 25, 256)  590080      block3_conv2[0][0]               \n",
      "__________________________________________________________________________________________________\n",
      "block3_pool (MaxPooling2D)      (None, 13, 13, 256)  0           block3_conv3[0][0]               \n",
      "__________________________________________________________________________________________________\n",
      "block4_conv1 (Conv2D)           (None, 13, 13, 512)  1180160     block3_pool[0][0]                \n",
      "__________________________________________________________________________________________________\n",
      "block4_conv2 (Conv2D)           (None, 13, 13, 512)  2359808     block4_conv1[0][0]               \n",
      "__________________________________________________________________________________________________\n",
      "block4_conv3 (Conv2D)           (None, 13, 13, 512)  2359808     block4_conv2[0][0]               \n",
      "__________________________________________________________________________________________________\n",
      "block4_pool (MaxPooling2D)      (None, 7, 7, 512)    0           block4_conv3[0][0]               \n",
      "__________________________________________________________________________________________________\n",
      "block5_conv1 (Conv2D)           (None, 7, 7, 512)    2359808     block4_pool[0][0]                \n",
      "__________________________________________________________________________________________________\n",
      "block5_conv2 (Conv2D)           (None, 7, 7, 512)    2359808     block5_conv1[0][0]               \n",
      "__________________________________________________________________________________________________\n",
      "block5_conv3 (Conv2D)           (None, 7, 7, 512)    2359808     block5_conv2[0][0]               \n",
      "__________________________________________________________________________________________________\n",
      "block5_pool (MaxPooling2D)      (None, 4, 4, 512)    0           block5_conv3[0][0]               \n",
      "__________________________________________________________________________________________________\n",
      "block5_fc6 (Conv2D)             (None, 4, 4, 4096)   102764544   block5_pool[0][0]                \n",
      "__________________________________________________________________________________________________\n",
      "dropout_5 (Dropout)             (None, 4, 4, 4096)   0           block5_fc6[0][0]                 \n",
      "__________________________________________________________________________________________________\n",
      "block5_fc7 (Conv2D)             (None, 4, 4, 4096)   16781312    dropout_5[0][0]                  \n",
      "__________________________________________________________________________________________________\n",
      "dropout_6 (Dropout)             (None, 4, 4, 4096)   0           block5_fc7[0][0]                 \n",
      "__________________________________________________________________________________________________\n",
      "score_feat1 (Conv2D)            (None, 4, 4, 4)      16388       dropout_6[0][0]                  \n",
      "__________________________________________________________________________________________________\n",
      "score_feat2 (Conv2D)            (None, 7, 7, 4)      2052        block4_pool[0][0]                \n",
      "__________________________________________________________________________________________________\n",
      "upscore_feat1 (BilinearUpSampli (None, 7, 7, 4)      0           score_feat1[0][0]                \n",
      "__________________________________________________________________________________________________\n",
      "scale_feat2 (Lambda)            (None, 7, 7, 4)      0           score_feat2[0][0]                \n",
      "__________________________________________________________________________________________________\n",
      "add_5 (Add)                     (None, 7, 7, 4)      0           upscore_feat1[0][0]              \n",
      "                                                                 scale_feat2[0][0]                \n",
      "__________________________________________________________________________________________________\n",
      "score_feat3 (Conv2D)            (None, 13, 13, 4)    1028        block3_pool[0][0]                \n",
      "__________________________________________________________________________________________________\n",
      "upscore_feat2 (BilinearUpSampli (None, 13, 13, 4)    0           add_5[0][0]                      \n",
      "__________________________________________________________________________________________________\n",
      "scale_feat3 (Lambda)            (None, 13, 13, 4)    0           score_feat3[0][0]                \n",
      "__________________________________________________________________________________________________\n",
      "add_6 (Add)                     (None, 13, 13, 4)    0           upscore_feat2[0][0]              \n",
      "                                                                 scale_feat3[0][0]                \n",
      "__________________________________________________________________________________________________\n",
      "upscore_feat3 (BilinearUpSampli (None, 100, 100, 4)  0           add_6[0][0]                      \n",
      "__________________________________________________________________________________________________\n",
      "activation_3 (Activation)       (None, 100, 100, 4)  0           upscore_feat3[0][0]              \n",
      "==================================================================================================\n",
      "Total params: 134,280,012\n",
      "Trainable params: 134,280,012\n",
      "Non-trainable params: 0\n",
      "__________________________________________________________________________________________________\n",
      "None\n"
     ]
    }
   ],
   "source": [
    "import_model(model = FCN)"
   ]
  },
  {
   "cell_type": "code",
   "execution_count": 56,
   "metadata": {},
   "outputs": [
    {
     "name": "stdout",
     "output_type": "stream",
     "text": [
      "0.00020897816169700246\n"
     ]
    }
   ],
   "source": [
    "#np.logspace(1E-5, 1, 6):  # Tests 1E-5, 1E-4, ..., 1\n",
    "#np.log10() \n",
    "learning_rate = 10 ** np.random.uniform(-6, 1)\n",
    "print(learning_rate)"
   ]
  },
  {
   "cell_type": "code",
   "execution_count": 57,
   "metadata": {},
   "outputs": [
    {
     "name": "stdout",
     "output_type": "stream",
     "text": [
      "[ 8.07575919  3.02845881  2.66836717  7.86454692  8.61894377  9.37346235]\n"
     ]
    }
   ],
   "source": [
    "import scipy as sp\n",
    "low = 10**(-6)\n",
    "high= 10**(1)\n",
    "learning_rate=sp.random.uniform(low=low,high=high,size=6)\n",
    "print(learning_rate)"
   ]
  },
  {
   "cell_type": "code",
   "execution_count": 61,
   "metadata": {},
   "outputs": [
    {
     "ename": "TypeError",
     "evalue": "require string label",
     "output_type": "error",
     "traceback": [
      "\u001b[1;31m---------------------------------------------------------------------------\u001b[0m",
      "\u001b[1;31mTypeError\u001b[0m                                 Traceback (most recent call last)",
      "\u001b[1;32m<ipython-input-61-5ddafc40f4fc>\u001b[0m in \u001b[0;36m<module>\u001b[1;34m()\u001b[0m\n\u001b[0;32m      1\u001b[0m \u001b[1;32mfrom\u001b[0m \u001b[0mhyperas\u001b[0m\u001b[1;33m.\u001b[0m\u001b[0mdistributions\u001b[0m \u001b[1;32mimport\u001b[0m \u001b[0mchoice\u001b[0m\u001b[1;33m,\u001b[0m \u001b[0muniform\u001b[0m\u001b[1;33m,\u001b[0m \u001b[0mconditional\u001b[0m\u001b[1;33m\u001b[0m\u001b[0m\n\u001b[1;32m----> 2\u001b[1;33m \u001b[1;36m10\u001b[0m\u001b[1;33m**\u001b[0m\u001b[0muniform\u001b[0m\u001b[1;33m(\u001b[0m\u001b[1;33m-\u001b[0m\u001b[1;36m6\u001b[0m\u001b[1;33m,\u001b[0m\u001b[1;36m1\u001b[0m\u001b[1;33m)\u001b[0m\u001b[1;33m\u001b[0m\u001b[0m\n\u001b[0m",
      "\u001b[1;32mc:\\program files\\python36\\lib\\site-packages\\hyperopt\\pyll_utils.py\u001b[0m in \u001b[0;36mwrapper\u001b[1;34m(label, *args, **kwargs)\u001b[0m\n\u001b[0;32m     19\u001b[0m                              isinstance(label.obj, basestring))\n\u001b[0;32m     20\u001b[0m         \u001b[1;32mif\u001b[0m \u001b[1;32mnot\u001b[0m \u001b[0mis_real_string\u001b[0m \u001b[1;32mand\u001b[0m \u001b[1;32mnot\u001b[0m \u001b[0mis_literal_string\u001b[0m\u001b[1;33m:\u001b[0m\u001b[1;33m\u001b[0m\u001b[0m\n\u001b[1;32m---> 21\u001b[1;33m             \u001b[1;32mraise\u001b[0m \u001b[0mTypeError\u001b[0m\u001b[1;33m(\u001b[0m\u001b[1;34m'require string label'\u001b[0m\u001b[1;33m)\u001b[0m\u001b[1;33m\u001b[0m\u001b[0m\n\u001b[0m\u001b[0;32m     22\u001b[0m         \u001b[1;32mreturn\u001b[0m \u001b[0mf\u001b[0m\u001b[1;33m(\u001b[0m\u001b[0mlabel\u001b[0m\u001b[1;33m,\u001b[0m \u001b[1;33m*\u001b[0m\u001b[0margs\u001b[0m\u001b[1;33m,\u001b[0m \u001b[1;33m**\u001b[0m\u001b[0mkwargs\u001b[0m\u001b[1;33m)\u001b[0m\u001b[1;33m\u001b[0m\u001b[0m\n\u001b[0;32m     23\u001b[0m     \u001b[1;32mreturn\u001b[0m \u001b[0mwrapper\u001b[0m\u001b[1;33m\u001b[0m\u001b[0m\n",
      "\u001b[1;31mTypeError\u001b[0m: require string label"
     ]
    }
   ],
   "source": [
    "from hyperas.distributions import choice, uniform, conditional\n",
    "10**uniform(-6,1)"
   ]
  },
  {
   "cell_type": "code",
   "execution_count": 62,
   "metadata": {},
   "outputs": [
    {
     "data": {
      "text/plain": [
       "32"
      ]
     },
     "execution_count": 62,
     "metadata": {},
     "output_type": "execute_result"
    }
   ],
   "source": [
    "batch_size=[32,64, 256]\n",
    "batch_size[0]"
   ]
  },
  {
   "cell_type": "code",
   "execution_count": 65,
   "metadata": {},
   "outputs": [],
   "source": [
    "import os\n",
    "import yaml\n",
    "import datetime\n",
    "import numpy as np\n",
    "import keras\n",
    "import keras.backend as K\n",
    "import tensorflow as tf\n",
    "import sys\n",
    "sys.path.append(\"./utils/\")\n",
    "import cv2\n",
    "import loadcoraldata_utils as coralutils\n",
    "sys.path.append(\"./hyperparamopt_utils/\")\n",
    "from train2opt import TrainOptimizer\n",
    "    "
   ]
  },
  {
   "cell_type": "code",
   "execution_count": null,
   "metadata": {},
   "outputs": [],
   "source": [
    "transect1_path = '../Images/Transect 1 Hi-Res.tiff'\n",
    "transect1_truth_path = '../Images/Transect 1 Truth data.tif'\n",
    "output_trainpath = '../Images/Training_Patches/imsize_150_150/'\n",
    "output_trainrefpath = '../Images/TrainingRef_Patches/imsize_150_150/'\n",
    "output_trainfilename = 'NeMO_train.txt'\n",
    "output_validpath = '../Images/Valid_Patches/imsize_150_150/'\n",
    "output_validrefpath = '../Images/ValidRef_Patches/imsize_150_150/'\n",
    "output_validfilename = 'NeMO_valid.txt'\n",
    "\n",
    "image_size = 150\n",
    "labels = ('Sand', 'Branching', 'Mounding', 'Rock')\n",
    "Transect1 = coralutils.CoralData(transect1_path, Truthpath=transect1_truth_path, truth_key=[16,160,198,38])\n",
    "#Transect1.export_segmentation_map(output_trainpath, output_trainrefpath, output_trainfilename, image_size = image_size, N = 200, lastchannelremove = True, labelkey = labels)\n",
    "#Transect1.export_segmentation_map(output_validpath, output_validrefpath, output_validfilename, image_size = image_size, N = 20, lastchannelremove = True, labelkey = labels)"
   ]
  },
  {
   "cell_type": "code",
   "execution_count": 66,
   "metadata": {},
   "outputs": [
    {
     "data": {
      "text/plain": [
       "<train2opt.TrainOptimizer at 0xf8a9dd8>"
      ]
     },
     "execution_count": 66,
     "metadata": {},
     "output_type": "execute_result"
    }
   ],
   "source": [
    "# need to check gen_img_set; so far, we have test images\n",
    "\n",
    "# define variables in TrainOptimizer\n",
    "TrainOptimizer(labelkey=('Sand', 'Branching', 'Mounding', 'Rock'), train_image_path='../Images/Training_Patches/',\n",
    "              train_label_path = '../Images/TrainingRef_Patches/', train_out_file = 'NeMO_train.txt',\n",
    "              valid_image_path = '../Images/Valid_Patches/', valid_label_path = '../Images/ValidRef_Patches/',\n",
    "              valid_out_file = 'NeMO_valid.txt', num_classes = 4, model = FCN)"
   ]
  },
  {
   "cell_type": "code",
   "execution_count": null,
   "metadata": {},
   "outputs": [],
   "source": []
  }
 ],
 "metadata": {
  "kernelspec": {
   "display_name": "Python 3",
   "language": "python",
   "name": "python3"
  },
  "language_info": {
   "codemirror_mode": {
    "name": "ipython",
    "version": 3
   },
   "file_extension": ".py",
   "mimetype": "text/x-python",
   "name": "python",
   "nbconvert_exporter": "python",
   "pygments_lexer": "ipython3",
   "version": "3.6.3"
  }
 },
 "nbformat": 4,
 "nbformat_minor": 2
}
