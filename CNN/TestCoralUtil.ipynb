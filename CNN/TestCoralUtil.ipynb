{
 "cells": [
  {
   "cell_type": "code",
   "execution_count": 1,
   "metadata": {
    "scrolled": false
   },
   "outputs": [],
   "source": [
    "import sys\n",
    "\n",
    "sys.path.append('./utils/')\n",
    "import numpy as np\n",
    "import cv2\n",
    "import loadcoraldata_utils as coralutils"
   ]
  },
  {
   "cell_type": "code",
   "execution_count": 3,
   "metadata": {},
   "outputs": [
    {
     "name": "stdout",
     "output_type": "stream",
     "text": [
      "Outputing Training...\n",
      "2000/ 2000 patches exported\n",
      "\n",
      "Outputing Validation...\n",
      "200/ 200 patches exported\r"
     ]
    }
   ],
   "source": [
    "transect1_path = '../Images/Transect 1 Hi-Res.tiff'\n",
    "transect1_truth_path = '../Images/Transect 1 Truth data.tif'\n",
    "output_trainpath = '../Images/Training_Patches/'\n",
    "output_trainrefpath = '../Images/TrainingRef_Patches/'\n",
    "output_trainfilename = 'NeMO_train.txt'\n",
    "output_validpath = '../Images/Valid_Patches/'\n",
    "output_validrefpath = '../Images/ValidRef_Patches/'\n",
    "output_validfilename = 'NeMO_valid.txt'\n",
    "\n",
    "image_size = 150\n",
    "labels = ('Sand', 'Branching', 'Mounding', 'Rock')\n",
    "Transect1 = coralutils.CoralData(transect1_path, Truthpath=transect1_truth_path, truth_key=[16,160,198,38])\n",
    "print(\"Outputing Training...\")\n",
    "Transect1.export_segmentation_map(output_trainpath, output_trainrefpath, output_trainfilename, image_size = image_size, N = 500, lastchannelremove = True, labelkey = labels)\n",
    "print(\"\\n\")\n",
    "print(\"Outputing Validation...\")\n",
    "Transect1.export_segmentation_map(output_validpath, output_validrefpath, output_validfilename, image_size = image_size, N = 50, lastchannelremove = True, labelkey = labels)\n"
   ]
  },
  {
   "cell_type": "code",
   "execution_count": 7,
   "metadata": {},
   "outputs": [
    {
     "name": "stdout",
     "output_type": "stream",
     "text": [
      "[ 63 127]\n"
     ]
    }
   ],
   "source": [
    "loadtruthpath = '../Images/TrainingRef_Patches/Mounding_00000002.png'\n",
    "\n",
    "a = cv2.imread(loadtruthpath,0)\n",
    "print(np.unique(a))"
   ]
  },
  {
   "cell_type": "code",
   "execution_count": null,
   "metadata": {},
   "outputs": [],
   "source": []
  }
 ],
 "metadata": {
  "kernelspec": {
   "display_name": "Python 3",
   "language": "python",
   "name": "python3"
  },
  "language_info": {
   "codemirror_mode": {
    "name": "ipython",
    "version": 3
   },
   "file_extension": ".py",
   "mimetype": "text/x-python",
   "name": "python",
   "nbconvert_exporter": "python",
   "pygments_lexer": "ipython3",
   "version": "3.6.2"
  }
 },
 "nbformat": 4,
 "nbformat_minor": 2
}
