{
 "cells": [
  {
   "cell_type": "code",
   "execution_count": 3,
   "metadata": {
    "scrolled": true
   },
   "outputs": [
    {
     "name": "stderr",
     "output_type": "stream",
     "text": [
      "Using TensorFlow backend.\n"
     ]
    }
   ],
   "source": [
    "import sys\n",
    "\n",
    "sys.path.append('./utils/')\n",
    "import numpy as np\n",
    "import cv2\n",
    "import gdal\n",
    "import loadcoraldata_utils as coralutils"
   ]
  },
  {
   "cell_type": "code",
   "execution_count": 2,
   "metadata": {},
   "outputs": [
    {
     "name": "stdout",
     "output_type": "stream",
     "text": [
      "Outputing Training...\n",
      "40000/ 40000 patches exported\n",
      "\n",
      "Outputing Validation...\n",
      "400/ 400 patches exported\r"
     ]
    }
   ],
   "source": [
    "# Test export of patches from map\n",
    "\n",
    "transect1_path = '../Images/Transect 1 Hi-Res.tiff'\n",
    "transect1_truth_path = '../Images/Transect 1 Truth data.tif'\n",
    "output_trainpath = '../Images/Training_Patches/'\n",
    "output_trainrefpath = '../Images/TrainingRef_Patches/'\n",
    "output_trainfilename = 'NeMO_train.txt'\n",
    "output_validpath = '../Images/Valid_Patches/'\n",
    "output_validrefpath = '../Images/ValidRef_Patches/'\n",
    "output_validfilename = 'NeMO_valid.txt'\n",
    "\n",
    "image_size = 25\n",
    "labels = ('Sand', 'Branching', 'Mounding', 'Rock')\n",
    "Transect1 = coralutils.CoralData(transect1_path, Truthpath=transect1_truth_path, truth_key=[16,160,198,38], load_type=\"cv2\")\n",
    "print(\"Outputing Training...\")\n",
    "Transect1.export_segmentation_map(output_trainpath, output_trainrefpath, output_trainfilename, image_size = image_size, N = 10000, lastchannelremove = True, labelkey = labels, subdir=True)\n",
    "print(\"\\n\")\n",
    "print(\"Outputing Validation...\")\n",
    "Transect1.export_segmentation_map(output_validpath, output_validrefpath, output_validfilename, image_size = image_size, N = 100, lastchannelremove = True, labelkey = labels, subdir=True)"
   ]
  },
  {
   "cell_type": "code",
   "execution_count": 7,
   "metadata": {},
   "outputs": [
    {
     "name": "stdout",
     "output_type": "stream",
     "text": [
      "[ 63 127]\n"
     ]
    }
   ],
   "source": [
    "loadtruthpath = '../Images/TrainingRef_Patches/Mounding/Mounding_00000003.png'\n",
    "\n",
    "a = cv2.imread(loadtruthpath,0)\n",
    "print(np.unique(a))"
   ]
  },
  {
   "cell_type": "code",
   "execution_count": 6,
   "metadata": {},
   "outputs": [
    {
     "name": "stdout",
     "output_type": "stream",
     "text": [
      "Class: back reef - pavement\n",
      "\n",
      "Class: back reef - rubble dominated\n",
      "\n",
      "Class: back reef - sediment dominated\n",
      "\n",
      "Class: back reef coral framework\n",
      "\n",
      "Class: beach\n",
      "\n",
      "Class: clouds\n",
      "\n",
      "Class: coralline algal ridge (reef crest)\n",
      "\n",
      "Class: deep fore reef slope\n",
      "\n",
      "Class: deep lagoonal water\n",
      "\n",
      "Class: deep ocean water\n",
      "\n",
      "Class: dense seagrass meadows\n",
      "\n",
      "Class: fore reef sand flats\n",
      "\n",
      "Class: inland waters\n",
      "\n",
      "Class: lagoonal floor - barren\n",
      "\n",
      "Class: lagoonal fringing reefs\n",
      "\n",
      "Class: lagoonal patch reefs\n",
      "\n",
      "Class: lagoonal sediment apron - sediment dominated\n",
      "\n",
      "Class: mangroves\n",
      "\n",
      "Class: rocky beach\n",
      "\n",
      "Class: shallow fore reef slope\n",
      "\n",
      "Class: shallow fore reef terrace\n",
      "\n",
      "Class: terrestrial vegetation\n",
      "\n",
      "Class: wetlands\n",
      "\n",
      "Outputing Training...\n",
      "2400/ 2400 patches exported\n",
      "\n",
      "Outputing Validation...\n",
      "240/ 240 patches exported\r"
     ]
    }
   ],
   "source": [
    "# Test export of patches from gdal\n",
    "imgpath = '../Images/BTPB-WV2-2012-15-8Band-mosaic-GeoTiff-Sample-AOI/BTPB-WV2-2012-15-8Band-mosaic-GeoTiff-Sample-AOI.tif'\n",
    "tfwpath = '../Images/BTPB-WV2-2012-15-8Band-mosaic-GeoTiff-Sample-AOI/BTPB-WV2-2012-15-8Band-mosaic-GeoTiff-Sample-AOI.tfw'\n",
    "truthpath = '../Images/BIOT-PerosBanhos-sample-habitat-map-one-shape-per-class/'\n",
    "output_trainpath = '../Images/Training_Patches/'\n",
    "output_trainrefpath = '../Images/TrainingRef_Patches/'\n",
    "output_trainfilename = 'rastertrain.txt'\n",
    "output_validpath = '../Images/Valid_Patches/'\n",
    "output_validrefpath = '../Images/ValidRef_Patches/'\n",
    "output_validfilename = 'rastervalid.txt'\n",
    "\n",
    "PerosBanhos = coralutils.CoralData(imgpath, Truthpath=truthpath, load_type=\"raster\", tfwpath=tfwpath)\n",
    "print(\"Outputing Training...\")\n",
    "PerosBanhos.export_segmentation_map(output_trainpath, output_trainrefpath, \n",
    "                                    output_trainfilename, image_size=25, N=100, lastchannelremove=False, \n",
    "                                    labelkey = PerosBanhos.class_labels, subdir=True)\n",
    "print(\"\\n\")\n",
    "print(\"Outputing Validation...\")\n",
    "PerosBanhos.export_segmentation_map(output_validpath, output_validrefpath, \n",
    "                                    output_validfilename, image_size=25, N=10, lastchannelremove=False, \n",
    "                                    labelkey = PerosBanhos.class_labels, subdir=True)"
   ]
  },
  {
   "cell_type": "code",
   "execution_count": 5,
   "metadata": {},
   "outputs": [
    {
     "name": "stdout",
     "output_type": "stream",
     "text": [
      "['NoData', 'back reef - pavement', 'back reef - rubble dominated', 'back reef - sediment dominated', 'back reef coral framework', 'beach', 'clouds', 'coralline algal ridge (reef crest)', 'deep fore reef slope', 'deep lagoonal water', 'deep ocean water', 'dense seagrass meadows', 'fore reef sand flats', 'inland waters', 'lagoonal floor - barren', 'lagoonal fringing reefs', 'lagoonal patch reefs', 'lagoonal sediment apron - sediment dominated', 'mangroves', 'rocky beach', 'shallow fore reef slope', 'shallow fore reef terrace', 'terrestrial vegetation', 'wetlands']\n"
     ]
    }
   ],
   "source": [
    "print(PerosBanhos.class_labels)"
   ]
  },
  {
   "cell_type": "code",
   "execution_count": null,
   "metadata": {},
   "outputs": [],
   "source": []
  }
 ],
 "metadata": {
  "kernelspec": {
   "display_name": "Python 3",
   "language": "python",
   "name": "python3"
  },
  "language_info": {
   "codemirror_mode": {
    "name": "ipython",
    "version": 3
   },
   "file_extension": ".py",
   "mimetype": "text/x-python",
   "name": "python",
   "nbconvert_exporter": "python",
   "pygments_lexer": "ipython3",
   "version": "3.6.3"
  }
 },
 "nbformat": 4,
 "nbformat_minor": 2
}
