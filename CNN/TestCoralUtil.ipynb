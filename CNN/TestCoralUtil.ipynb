{
 "cells": [
  {
   "cell_type": "code",
   "execution_count": 1,
   "metadata": {
    "scrolled": false
   },
   "outputs": [
    {
     "name": "stderr",
     "output_type": "stream",
     "text": [
      "Using TensorFlow backend.\n"
     ]
    }
   ],
   "source": [
    "import sys\n",
    "\n",
    "sys.path.append('./utils/')\n",
    "import numpy as np\n",
    "import cv2\n",
    "import gdal\n",
    "import loadcoraldata_utils as coralutils"
   ]
  },
  {
   "cell_type": "code",
   "execution_count": 1,
   "metadata": {},
   "outputs": [
    {
     "ename": "NameError",
     "evalue": "name 'coralutils' is not defined",
     "output_type": "error",
     "traceback": [
      "\u001b[1;31m---------------------------------------------------------------------------\u001b[0m",
      "\u001b[1;31mNameError\u001b[0m                                 Traceback (most recent call last)",
      "\u001b[1;32m<ipython-input-1-6136c4d97d3f>\u001b[0m in \u001b[0;36m<module>\u001b[1;34m()\u001b[0m\n\u001b[0;32m     12\u001b[0m \u001b[0mimage_size\u001b[0m \u001b[1;33m=\u001b[0m \u001b[1;36m25\u001b[0m\u001b[1;33m\u001b[0m\u001b[0m\n\u001b[0;32m     13\u001b[0m \u001b[0mlabels\u001b[0m \u001b[1;33m=\u001b[0m \u001b[1;33m(\u001b[0m\u001b[1;34m'Sand'\u001b[0m\u001b[1;33m,\u001b[0m \u001b[1;34m'Branching'\u001b[0m\u001b[1;33m,\u001b[0m \u001b[1;34m'Mounding'\u001b[0m\u001b[1;33m,\u001b[0m \u001b[1;34m'Rock'\u001b[0m\u001b[1;33m)\u001b[0m\u001b[1;33m\u001b[0m\u001b[0m\n\u001b[1;32m---> 14\u001b[1;33m \u001b[0mTransect1\u001b[0m \u001b[1;33m=\u001b[0m \u001b[0mcoralutils\u001b[0m\u001b[1;33m.\u001b[0m\u001b[0mCoralData\u001b[0m\u001b[1;33m(\u001b[0m\u001b[0mtransect1_path\u001b[0m\u001b[1;33m,\u001b[0m \u001b[0mTruthpath\u001b[0m\u001b[1;33m=\u001b[0m\u001b[0mtransect1_truth_path\u001b[0m\u001b[1;33m,\u001b[0m \u001b[0mtruth_key\u001b[0m\u001b[1;33m=\u001b[0m\u001b[1;33m[\u001b[0m\u001b[1;36m16\u001b[0m\u001b[1;33m,\u001b[0m\u001b[1;36m160\u001b[0m\u001b[1;33m,\u001b[0m\u001b[1;36m198\u001b[0m\u001b[1;33m,\u001b[0m\u001b[1;36m38\u001b[0m\u001b[1;33m]\u001b[0m\u001b[1;33m,\u001b[0m \u001b[0mload_type\u001b[0m\u001b[1;33m=\u001b[0m\u001b[1;34m\"cv2\"\u001b[0m\u001b[1;33m)\u001b[0m\u001b[1;33m\u001b[0m\u001b[0m\n\u001b[0m\u001b[0;32m     15\u001b[0m \u001b[0mprint\u001b[0m\u001b[1;33m(\u001b[0m\u001b[1;34m\"Outputing Training...\"\u001b[0m\u001b[1;33m)\u001b[0m\u001b[1;33m\u001b[0m\u001b[0m\n\u001b[0;32m     16\u001b[0m \u001b[0mTransect1\u001b[0m\u001b[1;33m.\u001b[0m\u001b[0mexport_segmentation_map\u001b[0m\u001b[1;33m(\u001b[0m\u001b[0moutput_trainpath\u001b[0m\u001b[1;33m,\u001b[0m \u001b[0moutput_trainrefpath\u001b[0m\u001b[1;33m,\u001b[0m \u001b[0moutput_trainfilename\u001b[0m\u001b[1;33m,\u001b[0m \u001b[0mimage_size\u001b[0m \u001b[1;33m=\u001b[0m \u001b[0mimage_size\u001b[0m\u001b[1;33m,\u001b[0m \u001b[0mN\u001b[0m \u001b[1;33m=\u001b[0m \u001b[1;36m1000\u001b[0m\u001b[1;33m,\u001b[0m \u001b[0mlastchannelremove\u001b[0m \u001b[1;33m=\u001b[0m \u001b[1;32mTrue\u001b[0m\u001b[1;33m,\u001b[0m \u001b[0mlabelkey\u001b[0m \u001b[1;33m=\u001b[0m \u001b[0mlabels\u001b[0m\u001b[1;33m,\u001b[0m \u001b[0msubdir\u001b[0m\u001b[1;33m=\u001b[0m\u001b[1;32mTrue\u001b[0m\u001b[1;33m)\u001b[0m\u001b[1;33m\u001b[0m\u001b[0m\n",
      "\u001b[1;31mNameError\u001b[0m: name 'coralutils' is not defined"
     ]
    }
   ],
   "source": [
    "# Test export of patches from map\n",
    "\n",
    "transect1_path = '../Images/Transect 1 Hi-Res.tiff'\n",
    "transect1_truth_path = '../Images/Transect 1 Truth data.tif'\n",
    "output_trainpath = '../Images/Training_Patches/'\n",
    "output_trainrefpath = '../Images/TrainingRef_Patches/'\n",
    "output_trainfilename = 'NeMO_train.txt'\n",
    "output_validpath = '../Images/Valid_Patches/'\n",
    "output_validrefpath = '../Images/ValidRef_Patches/'\n",
    "output_validfilename = 'NeMO_valid.txt'\n",
    "\n",
    "image_size = 25\n",
    "labels = ('Sand', 'Branching', 'Mounding', 'Rock')\n",
    "Transect1 = coralutils.CoralData(transect1_path, Truthpath=transect1_truth_path, truth_key=[16,160,198,38], load_type=\"cv2\")\n",
    "print(\"Outputing Training...\")\n",
    "Transect1.export_segmentation_map(output_trainpath, output_trainrefpath, output_trainfilename, image_size = image_size, N = 1000, lastchannelremove = True, labelkey = labels, subdir=True)\n",
    "print(\"\\n\")\n",
    "print(\"Outputing Validation...\")\n",
    "Transect1.export_segmentation_map(output_validpath, output_validrefpath, output_validfilename, image_size = image_size, N = 100, lastchannelremove = True, labelkey = labels, subdir=True)"
   ]
  },
  {
   "cell_type": "code",
   "execution_count": 3,
   "metadata": {},
   "outputs": [
    {
     "name": "stdout",
     "output_type": "stream",
     "text": [
      "[  0  63 127]\n"
     ]
    }
   ],
   "source": [
    "loadtruthpath = '../Images/TrainingRef_Patches/Mounding/Mounding_00000003.png'\n",
    "\n",
    "a = cv2.imread(loadtruthpath,0)\n",
    "print(np.unique(a))"
   ]
  },
  {
   "cell_type": "code",
   "execution_count": 3,
   "metadata": {
    "scrolled": false
   },
   "outputs": [
    {
     "name": "stdout",
     "output_type": "stream",
     "text": [
      "\n",
      "\n",
      "Outputing Validation...\n",
      "2400/ 2400 patches exported\r"
     ]
    }
   ],
   "source": [
    "# Test export of patches from gdal\n",
    "imgpath = '../Images/BTPB-WV2-2012-15-8Band-mosaic-GeoTiff-Sample-AOI/BTPB-WV2-2012-15-8Band-mosaic-GeoTiff-Sample-AOI.tif'\n",
    "tfwpath = '../Images/BTPB-WV2-2012-15-8Band-mosaic-GeoTiff-Sample-AOI/BTPB-WV2-2012-15-8Band-mosaic-GeoTiff-Sample-AOI.tfw'\n",
    "truthpath = '../Images/BIOT-PerosBanhos-sample-habitat-map/BIOT-PerosBanhos-sample-habitat-map.shp'\n",
    "output_trainpath = '../Images/LO_Training_Patches/'\n",
    "output_trainrefpath = '../Images/LO_TrainingRef_Patches/'\n",
    "output_trainfilename = 'rastertrain.txt'\n",
    "output_validpath = '../Images/LO_Valid_Patches/'\n",
    "output_validrefpath = '../Images/LO_ValidRef_Patches/'\n",
    "output_validfilename = 'rastervalid.txt'\n",
    "\n",
    "PerosBanhos = coralutils.CoralData(imgpath, Truthpath=truthpath, load_type=\"raster\", tfwpath=tfwpath)\n",
    "print(\"Outputing Training...\")\n",
    "PerosBanhos.export_segmentation_map(output_trainpath, output_trainrefpath, \n",
    "                                    output_trainfilename, image_size=25, N=2000, lastchannelremove=False, \n",
    "                                    labelkey = PerosBanhos.class_labels, subdir=True)\n",
    "print(\"\\n\")\n",
    "print(\"Outputing Validation...\")\n",
    "PerosBanhos.export_segmentation_map(output_validpath, output_validrefpath, \n",
    "                                    output_validfilename, image_size=25, N=100, lastchannelremove=False, \n",
    "                                    labelkey = PerosBanhos.class_labels, subdir=True)"
   ]
  },
  {
   "cell_type": "code",
   "execution_count": 3,
   "metadata": {},
   "outputs": [
    {
     "name": "stdout",
     "output_type": "stream",
     "text": [
      "['NoData', 'back reef - pavement', 'Beach', 'coralline algal ridge (reef crest)', 'back reef - sediment dominated', 'lagoonal patch reefs', 'shallow fore reef slope', 'Inland waters', 'lagoonal fringing reefs', 'Clouds', 'back reef coral framework', 'lagoonal floor - barren', 'back reef - rubble dominated', 'Wetlands', 'deep ocean water', 'deep fore reef slope', 'mangroves', 'shallow fore reef terrace', 'fore reef sand flats', 'deep lagoonal water', 'dense seagrass meadows', 'Rocky beach', 'lagoonal sediment apron - sediment dominated', 'terrestrial vegetation']\n",
      "24\n",
      "(3272, 4330, 8)\n",
      "(3272, 4330)\n"
     ]
    }
   ],
   "source": [
    "print(PerosBanhos.class_labels)\n",
    "print(PerosBanhos.num_classes)\n",
    "print(PerosBanhos.image.shape)\n",
    "print(PerosBanhos.truthimage.shape)"
   ]
  },
  {
   "cell_type": "code",
   "execution_count": null,
   "metadata": {},
   "outputs": [],
   "source": []
  }
 ],
 "metadata": {
  "kernelspec": {
   "display_name": "Python 3",
   "language": "python",
   "name": "python3"
  },
  "language_info": {
   "codemirror_mode": {
    "name": "ipython",
    "version": 3
   },
   "file_extension": ".py",
   "mimetype": "text/x-python",
   "name": "python",
   "nbconvert_exporter": "python",
   "pygments_lexer": "ipython3",
   "version": "3.6.3"
  }
 },
 "nbformat": 4,
 "nbformat_minor": 2
}
